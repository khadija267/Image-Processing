{
  "nbformat": 4,
  "nbformat_minor": 5,
  "metadata": {
    "kernelspec": {
      "display_name": "Python 3",
      "language": "python",
      "name": "python3"
    },
    "language_info": {
      "codemirror_mode": {
        "name": "ipython",
        "version": 3
      },
      "file_extension": ".py",
      "mimetype": "text/x-python",
      "name": "python",
      "nbconvert_exporter": "python",
      "pygments_lexer": "ipython3",
      "version": "3.8.10"
    },
    "colab": {
      "name": "Khadija Hesham.ipynb",
      "provenance": [],
      "collapsed_sections": [],
      "toc_visible": true
    },
    "accelerator": "GPU"
  },
  "cells": [
    {
      "cell_type": "markdown",
      "metadata": {
        "id": "a8452199"
      },
      "source": [
        "# 1. CNNs, Keras API and Regression"
      ],
      "id": "a8452199"
    },
    {
      "cell_type": "markdown",
      "metadata": {
        "id": "99edeeb2"
      },
      "source": [
        "\n",
        "This assignment will give you a chance to familiarize yourself with CNNs and with the different\n",
        "techniques for monitoring and controlling the training process in tensorflow. In this assignment,\n",
        "we will look at weed leaves, in particular, we want to predict the number of leaves of the plant.\n",
        "The more leaves, the more the weed has grown.\n",
        "You must use Keras with the tensorflow backend, i.e., the package tensorflow.keras. For\n",
        "this assignment, you may use other tensorflow packages and scikit-learn, scikit-image or pandas\n",
        "but not other deep learning frameworks, e.g., pytorch, mxnet etc."
      ],
      "id": "99edeeb2"
    },
    {
      "cell_type": "markdown",
      "metadata": {
        "id": "a7744f3d"
      },
      "source": [
        "# 2. Data Preparation"
      ],
      "id": "a7744f3d"
    },
    {
      "cell_type": "markdown",
      "metadata": {
        "id": "ecb703a9"
      },
      "source": [
        "The data for this assignment are plant images at different resolution captured with a variety of\n",
        "cameras. There are images showing plants with approximatelty 1,2,3,4 and 6 leafs. The images are\n",
        "part of a Leaf counting dataset by Teimouri et al. [1] which can be downloaded from the Aarhus\n",
        "University, Denmark\n",
        "https://vision.eng.au.dk/leaf-counting-dataset/\n",
        ". However, you must work with the subset of images posted on BrightSpace as training.zip\n",
        "and testing.zip. There are 200 images for each of the 5 classes. As Figure 1 shows, there is a\n",
        "great variety of plants and image conditios. The dataset is split into a training and a testing set\n",
        "where there are 180 images per class for training and validation; and 20 images for testing."
      ],
      "id": "ecb703a9"
    },
    {
      "cell_type": "markdown",
      "metadata": {
        "id": "ea384695"
      },
      "source": [
        "> First of all, we gather the data from the folders and label it. <br>\n",
        "Then we resized the data into a 32 X 32 size."
      ],
      "id": "ea384695"
    },
    {
      "cell_type": "code",
      "metadata": {
        "colab": {
          "base_uri": "https://localhost:8080/"
        },
        "id": "SNMqrMPHAlyp",
        "outputId": "2ca4817d-6bcd-435e-ed52-3b5174174b9b"
      },
      "source": [
        "# import colab drive to access my drive and the data uploaded there.\n",
        "\n",
        "from google.colab import drive\n",
        "drive.mount('/content/drive')"
      ],
      "id": "SNMqrMPHAlyp",
      "execution_count": null,
      "outputs": [
        {
          "output_type": "stream",
          "name": "stdout",
          "text": [
            "Mounted at /content/drive\n"
          ]
        }
      ]
    },
    {
      "cell_type": "code",
      "metadata": {
        "id": "142401bc"
      },
      "source": [
        "# import important libraries\n",
        "\n",
        "import PIL\n",
        "import os\n",
        "from PIL import Image\n",
        "import os\n",
        "import skimage.io as skio\n",
        "from skimage.transform import resize\n",
        "import numpy as np\n",
        "import pandas as pd\n",
        "# get the location of the data\n",
        "location = r'/content/drive/MyDrive/'\n",
        "\n",
        "classes=['1','2','3','4','6']\n",
        "# make array of the classes of the data\n",
        "\n",
        "labels=[0,1,2,3,4]\n",
        "# make a list of the folders that contain the data\n",
        "\n",
        "folders=['training','testing']\n",
        "# make empty lists to append to them each image\n",
        "X_train=[]\n",
        "X_test=[]\n",
        "y_train=[]\n",
        "y_test=[]\n",
        "\n",
        "# for looping the folders and making a train, validation, and test images arrays\n",
        "\n",
        "for ind , it in enumerate(folders):\n",
        "    \n",
        "    if it=='training':\n",
        "        \n",
        "        for ind_1,it_1 in enumerate(classes):\n",
        "\n",
        "            for file in os.listdir(location+\"/\"+it+\"/\"+it_1):\n",
        "\n",
        "\n",
        "                f_img = location+\"/\"+it+\"/\"+it_1+\"/\"+file\n",
        "                img = skio.imread(f_img)\n",
        "                img = resize(img,(32,32))\n",
        "                X_train.append(img)\n",
        "                y_train.append(labels[ind_1])\n",
        "                \n",
        "                \n",
        "    elif it=='testing':\n",
        "        \n",
        "        for ind_1,it_1 in enumerate(classes):\n",
        "            \n",
        "            for file in os.listdir(location+\"/\"+it+\"/\"+it_1):\n",
        "                \n",
        "\n",
        "                f_img =location+\"/\"+it+\"/\"+it_1+\"/\"+file\n",
        "                img = skio.imread(f_img)\n",
        "                img = resize(img,(32,32))\n",
        "                X_test.append(img)\n",
        "                y_test.append(labels[ind_1])\n",
        "\n",
        "    else:\n",
        "        print(\"The destination file does not exist!\")\n",
        "\n",
        "        \n"
      ],
      "id": "142401bc",
      "execution_count": null,
      "outputs": []
    },
    {
      "cell_type": "markdown",
      "metadata": {
        "id": "rKtWwRb3JMMf"
      },
      "source": [
        "Make sure of the data size"
      ],
      "id": "rKtWwRb3JMMf"
    },
    {
      "cell_type": "code",
      "metadata": {
        "id": "ecbedd75",
        "colab": {
          "base_uri": "https://localhost:8080/"
        },
        "outputId": "bea68f34-08e8-4ad3-aa16-cd33333a62a3"
      },
      "source": [
        "len(X_test)"
      ],
      "id": "ecbedd75",
      "execution_count": null,
      "outputs": [
        {
          "output_type": "execute_result",
          "data": {
            "text/plain": [
              "100"
            ]
          },
          "metadata": {},
          "execution_count": 3
        }
      ]
    },
    {
      "cell_type": "code",
      "metadata": {
        "id": "eb116b52"
      },
      "source": [
        "y_test"
      ],
      "id": "eb116b52",
      "execution_count": null,
      "outputs": []
    },
    {
      "cell_type": "markdown",
      "metadata": {
        "id": "dg50LwQQJPyx"
      },
      "source": [
        "convert the list into a numpy array that is used in further modeling"
      ],
      "id": "dg50LwQQJPyx"
    },
    {
      "cell_type": "code",
      "metadata": {
        "id": "5f34241f",
        "colab": {
          "base_uri": "https://localhost:8080/"
        },
        "outputId": "375f5491-92e7-41e7-a778-a977a25c0656"
      },
      "source": [
        "y_train = np.asarray(y_train)\n",
        "y_test = np.asarray(y_test)\n",
        "X_train = np.asarray(X_train)\n",
        "X_test = np.asarray(X_test) \n",
        "\n",
        "print('Matrix shape X: ', X_train.shape)\n",
        "print('{0} samples for training'.format(X_train.shape[0]))\n",
        "print('{0} samples for training'.format(X_test.shape[0]))"
      ],
      "id": "5f34241f",
      "execution_count": null,
      "outputs": [
        {
          "output_type": "stream",
          "name": "stdout",
          "text": [
            "Matrix shape X:  (907, 32, 32, 3)\n",
            "907 samples for training\n",
            "100 samples for training\n"
          ]
        }
      ]
    },
    {
      "cell_type": "markdown",
      "metadata": {
        "id": "b50ed38e"
      },
      "source": [
        "# 3. Basic Transfer Learning"
      ],
      "id": "b50ed38e"
    },
    {
      "cell_type": "markdown",
      "metadata": {
        "id": "3eeb1b06"
      },
      "source": [
        "For this assignment, you are asked to use the Keras implementation of VGG-16 as a starting point.\n",
        "Have a look at the transfer learning example jupyter notebook mnistVGG.jypnb to get"
      ],
      "id": "3eeb1b06"
    },
    {
      "cell_type": "markdown",
      "metadata": {
        "id": "a20b6dfe"
      },
      "source": [
        "## 3.1. Classification Network [3]"
      ],
      "id": "a20b6dfe"
    },
    {
      "cell_type": "markdown",
      "metadata": {
        "id": "53d95c7b"
      },
      "source": [
        "Using the first 2 blocks of VGG-16 add extra Keras layers to create your own version of a CNN\n",
        "network for the classification of the images according to the number of leaves in the plant images.\n",
        "Note that there will be 5 classes. The last layer from VGG-16 will be block2 pool and you are\n",
        "allowed to add no more than five fully connected or convolutional layers to the network including\n",
        "the final output layer. You can use as many pooling, flattening, 1 × 1 convolution layers, etc. as\n",
        "you wish but do not use any regularization. Train this simple network on the training set while\n",
        "monitoring convergence on the validation set. As input to the model use images of size no larger\n",
        "than 128 × 128. Note, it is highly recommended to use even smaller input images to try things out.\n",
        "You are not expected to fine-tune the initial VGG layers. Print your learning curves for training\n",
        "and validation. Give the confusion matrix of your network on the training including validation\n",
        "and testing data sets."
      ],
      "id": "53d95c7b"
    },
    {
      "cell_type": "markdown",
      "metadata": {
        "id": "5d8f6b9a"
      },
      "source": [
        "> get the vgg model and print its architecture"
      ],
      "id": "5d8f6b9a"
    },
    {
      "cell_type": "code",
      "metadata": {
        "id": "79b34293",
        "colab": {
          "base_uri": "https://localhost:8080/"
        },
        "outputId": "bb0f5d01-6349-440f-97d8-1aa8320c9f06"
      },
      "source": [
        "# import keras from tensorflow as needed to import the vgg16 model\n",
        "\n",
        "from tensorflow.keras.applications.vgg16 import VGG16\n",
        "from tensorflow.keras.applications.vgg16 import preprocess_input\n",
        "\n",
        "## Loading VGG16 model\n",
        "vgg = VGG16(weights=\"imagenet\", include_top=False, input_shape=X_train[0].shape)\n",
        "vgg.trainable = False ## Not trainable weights\n"
      ],
      "id": "79b34293",
      "execution_count": null,
      "outputs": [
        {
          "output_type": "stream",
          "name": "stdout",
          "text": [
            "Downloading data from https://storage.googleapis.com/tensorflow/keras-applications/vgg16/vgg16_weights_tf_dim_ordering_tf_kernels_notop.h5\n",
            "58892288/58889256 [==============================] - 1s 0us/step\n",
            "58900480/58889256 [==============================] - 1s 0us/step\n"
          ]
        }
      ]
    },
    {
      "cell_type": "code",
      "metadata": {
        "id": "7c0fa3b8",
        "colab": {
          "base_uri": "https://localhost:8080/"
        },
        "outputId": "57b6c7c4-9ee0-46c9-d328-ab7e6baec8a2"
      },
      "source": [
        "# print model summary\n",
        "print(vgg.summary())"
      ],
      "id": "7c0fa3b8",
      "execution_count": null,
      "outputs": [
        {
          "output_type": "stream",
          "name": "stdout",
          "text": [
            "Model: \"vgg16\"\n",
            "_________________________________________________________________\n",
            " Layer (type)                Output Shape              Param #   \n",
            "=================================================================\n",
            " input_1 (InputLayer)        [(None, 32, 32, 3)]       0         \n",
            "                                                                 \n",
            " block1_conv1 (Conv2D)       (None, 32, 32, 64)        1792      \n",
            "                                                                 \n",
            " block1_conv2 (Conv2D)       (None, 32, 32, 64)        36928     \n",
            "                                                                 \n",
            " block1_pool (MaxPooling2D)  (None, 16, 16, 64)        0         \n",
            "                                                                 \n",
            " block2_conv1 (Conv2D)       (None, 16, 16, 128)       73856     \n",
            "                                                                 \n",
            " block2_conv2 (Conv2D)       (None, 16, 16, 128)       147584    \n",
            "                                                                 \n",
            " block2_pool (MaxPooling2D)  (None, 8, 8, 128)         0         \n",
            "                                                                 \n",
            " block3_conv1 (Conv2D)       (None, 8, 8, 256)         295168    \n",
            "                                                                 \n",
            " block3_conv2 (Conv2D)       (None, 8, 8, 256)         590080    \n",
            "                                                                 \n",
            " block3_conv3 (Conv2D)       (None, 8, 8, 256)         590080    \n",
            "                                                                 \n",
            " block3_pool (MaxPooling2D)  (None, 4, 4, 256)         0         \n",
            "                                                                 \n",
            " block4_conv1 (Conv2D)       (None, 4, 4, 512)         1180160   \n",
            "                                                                 \n",
            " block4_conv2 (Conv2D)       (None, 4, 4, 512)         2359808   \n",
            "                                                                 \n",
            " block4_conv3 (Conv2D)       (None, 4, 4, 512)         2359808   \n",
            "                                                                 \n",
            " block4_pool (MaxPooling2D)  (None, 2, 2, 512)         0         \n",
            "                                                                 \n",
            " block5_conv1 (Conv2D)       (None, 2, 2, 512)         2359808   \n",
            "                                                                 \n",
            " block5_conv2 (Conv2D)       (None, 2, 2, 512)         2359808   \n",
            "                                                                 \n",
            " block5_conv3 (Conv2D)       (None, 2, 2, 512)         2359808   \n",
            "                                                                 \n",
            " block5_pool (MaxPooling2D)  (None, 1, 1, 512)         0         \n",
            "                                                                 \n",
            "=================================================================\n",
            "Total params: 14,714,688\n",
            "Trainable params: 0\n",
            "Non-trainable params: 14,714,688\n",
            "_________________________________________________________________\n",
            "None\n"
          ]
        }
      ]
    },
    {
      "cell_type": "markdown",
      "metadata": {
        "id": "2e5f6af7"
      },
      "source": [
        "> Take till the block2 layers in the VGG layers"
      ],
      "id": "2e5f6af7"
    },
    {
      "cell_type": "code",
      "metadata": {
        "id": "d4840d61"
      },
      "source": [
        "from tensorflow.keras.models import Model\n",
        "vgg_edited = Model(inputs=vgg.input, outputs=vgg.get_layer(\"block2_pool\").output)"
      ],
      "id": "d4840d61",
      "execution_count": null,
      "outputs": []
    },
    {
      "cell_type": "code",
      "metadata": {
        "id": "f5a18d00",
        "colab": {
          "base_uri": "https://localhost:8080/"
        },
        "outputId": "160827ae-cb27-4869-bc6c-be53d86ef495"
      },
      "source": [
        "print(vgg_edited.summary())"
      ],
      "id": "f5a18d00",
      "execution_count": null,
      "outputs": [
        {
          "output_type": "stream",
          "name": "stdout",
          "text": [
            "Model: \"model\"\n",
            "_________________________________________________________________\n",
            " Layer (type)                Output Shape              Param #   \n",
            "=================================================================\n",
            " input_1 (InputLayer)        [(None, 32, 32, 3)]       0         \n",
            "                                                                 \n",
            " block1_conv1 (Conv2D)       (None, 32, 32, 64)        1792      \n",
            "                                                                 \n",
            " block1_conv2 (Conv2D)       (None, 32, 32, 64)        36928     \n",
            "                                                                 \n",
            " block1_pool (MaxPooling2D)  (None, 16, 16, 64)        0         \n",
            "                                                                 \n",
            " block2_conv1 (Conv2D)       (None, 16, 16, 128)       73856     \n",
            "                                                                 \n",
            " block2_conv2 (Conv2D)       (None, 16, 16, 128)       147584    \n",
            "                                                                 \n",
            " block2_pool (MaxPooling2D)  (None, 8, 8, 128)         0         \n",
            "                                                                 \n",
            "=================================================================\n",
            "Total params: 260,160\n",
            "Trainable params: 0\n",
            "Non-trainable params: 260,160\n",
            "_________________________________________________________________\n",
            "None\n"
          ]
        }
      ]
    },
    {
      "cell_type": "code",
      "metadata": {
        "id": "20cc4519"
      },
      "source": [
        "#import important libraries fot keras and keras layers\n",
        "import tensorflow as tf\n",
        "import tensorflow.keras\n",
        "from tensorflow.keras.layers import Dense, Flatten, Conv2D, MaxPooling2D,Dropout"
      ],
      "id": "20cc4519",
      "execution_count": null,
      "outputs": []
    },
    {
      "cell_type": "code",
      "metadata": {
        "id": "b90a1e40"
      },
      "source": [
        "for layer in vgg_edited.layers:\n",
        "    layer.trainable = False\n",
        "\n",
        "# We will have to use the functional API    \n",
        "\n",
        "# last layers output\n",
        "x = vgg_edited.layers[-1].output\n",
        "# Flatten as before\n",
        "x = Flatten()(x)\n",
        "x = Dense(256, activation='relu')(x)\n",
        "x = Dense(5, activation='softmax')(x)\n",
        "\n",
        "from tensorflow.keras.models import Model\n",
        "vgg_model_transfer = Model(inputs=vgg_edited.input, outputs=x)"
      ],
      "id": "b90a1e40",
      "execution_count": null,
      "outputs": []
    },
    {
      "cell_type": "code",
      "metadata": {
        "id": "61cfd18d",
        "colab": {
          "base_uri": "https://localhost:8080/"
        },
        "outputId": "aecf16d4-577f-4918-9e21-5bf74b0fa629"
      },
      "source": [
        "print(vgg_model_transfer.summary())"
      ],
      "id": "61cfd18d",
      "execution_count": null,
      "outputs": [
        {
          "output_type": "stream",
          "name": "stdout",
          "text": [
            "Model: \"model_1\"\n",
            "_________________________________________________________________\n",
            " Layer (type)                Output Shape              Param #   \n",
            "=================================================================\n",
            " input_1 (InputLayer)        [(None, 32, 32, 3)]       0         \n",
            "                                                                 \n",
            " block1_conv1 (Conv2D)       (None, 32, 32, 64)        1792      \n",
            "                                                                 \n",
            " block1_conv2 (Conv2D)       (None, 32, 32, 64)        36928     \n",
            "                                                                 \n",
            " block1_pool (MaxPooling2D)  (None, 16, 16, 64)        0         \n",
            "                                                                 \n",
            " block2_conv1 (Conv2D)       (None, 16, 16, 128)       73856     \n",
            "                                                                 \n",
            " block2_conv2 (Conv2D)       (None, 16, 16, 128)       147584    \n",
            "                                                                 \n",
            " block2_pool (MaxPooling2D)  (None, 8, 8, 128)         0         \n",
            "                                                                 \n",
            " flatten (Flatten)           (None, 8192)              0         \n",
            "                                                                 \n",
            " dense (Dense)               (None, 256)               2097408   \n",
            "                                                                 \n",
            " dense_1 (Dense)             (None, 5)                 1285      \n",
            "                                                                 \n",
            "=================================================================\n",
            "Total params: 2,358,853\n",
            "Trainable params: 2,098,693\n",
            "Non-trainable params: 260,160\n",
            "_________________________________________________________________\n",
            "None\n"
          ]
        }
      ]
    },
    {
      "cell_type": "code",
      "metadata": {
        "id": "8a26e5f8"
      },
      "source": [
        "\n",
        "y_train_k = tensorflow.keras.utils.to_categorical(y_train, num_classes=5)\n",
        "y_test_k = tensorflow.keras.utils.to_categorical(y_test, num_classes=5)\n"
      ],
      "id": "8a26e5f8",
      "execution_count": null,
      "outputs": []
    },
    {
      "cell_type": "code",
      "metadata": {
        "id": "99e140eb",
        "colab": {
          "base_uri": "https://localhost:8080/"
        },
        "outputId": "d91b5b80-f1ac-4f73-8d8e-cb543789f94d"
      },
      "source": [
        "for i in range(0,200,20):\n",
        "    print(y_train[i], \" \", y_train_k[i,:])\n"
      ],
      "id": "99e140eb",
      "execution_count": null,
      "outputs": [
        {
          "output_type": "stream",
          "name": "stdout",
          "text": [
            "0   [1. 0. 0. 0. 0.]\n",
            "0   [1. 0. 0. 0. 0.]\n",
            "0   [1. 0. 0. 0. 0.]\n",
            "0   [1. 0. 0. 0. 0.]\n",
            "0   [1. 0. 0. 0. 0.]\n",
            "0   [1. 0. 0. 0. 0.]\n",
            "0   [1. 0. 0. 0. 0.]\n",
            "0   [1. 0. 0. 0. 0.]\n",
            "0   [1. 0. 0. 0. 0.]\n",
            "1   [0. 1. 0. 0. 0.]\n"
          ]
        }
      ]
    },
    {
      "cell_type": "code",
      "metadata": {
        "scrolled": false,
        "id": "7a42d2ca",
        "colab": {
          "base_uri": "https://localhost:8080/"
        },
        "outputId": "ca363c7a-382e-4dad-ec7a-c43873a12555"
      },
      "source": [
        "sgd = tensorflow.keras.optimizers.SGD(lr=0.0008)\n",
        "vgg_model_transfer.compile(loss='categorical_crossentropy', \n",
        "                           optimizer=sgd, \n",
        "                           metrics=['accuracy'])\n",
        "\n",
        "\n",
        "history = vgg_model_transfer.fit(X_train, y_train_k, batch_size=128, epochs=32, verbose=1, \n",
        "                                 validation_data=(X_test, y_test_k))"
      ],
      "id": "7a42d2ca",
      "execution_count": null,
      "outputs": [
        {
          "output_type": "stream",
          "name": "stderr",
          "text": [
            "/usr/local/lib/python3.7/dist-packages/keras/optimizer_v2/gradient_descent.py:102: UserWarning: The `lr` argument is deprecated, use `learning_rate` instead.\n",
            "  super(SGD, self).__init__(name, **kwargs)\n"
          ]
        },
        {
          "output_type": "stream",
          "name": "stdout",
          "text": [
            "Epoch 1/32\n",
            "8/8 [==============================] - 10s 109ms/step - loss: 32.9884 - accuracy: 0.2216 - val_loss: 1.8823 - val_accuracy: 0.2600\n",
            "Epoch 2/32\n",
            "8/8 [==============================] - 0s 19ms/step - loss: 1.7352 - accuracy: 0.2734 - val_loss: 1.7116 - val_accuracy: 0.3200\n",
            "Epoch 3/32\n",
            "8/8 [==============================] - 0s 18ms/step - loss: 1.5725 - accuracy: 0.3275 - val_loss: 1.6511 - val_accuracy: 0.3300\n",
            "Epoch 4/32\n",
            "8/8 [==============================] - 0s 18ms/step - loss: 1.5061 - accuracy: 0.3638 - val_loss: 1.7914 - val_accuracy: 0.2200\n",
            "Epoch 5/32\n",
            "8/8 [==============================] - 0s 18ms/step - loss: 1.4804 - accuracy: 0.3826 - val_loss: 1.6256 - val_accuracy: 0.3400\n",
            "Epoch 6/32\n",
            "8/8 [==============================] - 0s 18ms/step - loss: 1.4021 - accuracy: 0.4057 - val_loss: 1.7292 - val_accuracy: 0.3000\n",
            "Epoch 7/32\n",
            "8/8 [==============================] - 0s 18ms/step - loss: 1.3786 - accuracy: 0.4399 - val_loss: 1.6397 - val_accuracy: 0.3100\n",
            "Epoch 8/32\n",
            "8/8 [==============================] - 0s 18ms/step - loss: 1.3217 - accuracy: 0.4719 - val_loss: 1.6101 - val_accuracy: 0.3400\n",
            "Epoch 9/32\n",
            "8/8 [==============================] - 0s 19ms/step - loss: 1.2768 - accuracy: 0.4862 - val_loss: 1.9254 - val_accuracy: 0.2700\n",
            "Epoch 10/32\n",
            "8/8 [==============================] - 0s 18ms/step - loss: 1.2697 - accuracy: 0.5050 - val_loss: 1.6901 - val_accuracy: 0.2800\n",
            "Epoch 11/32\n",
            "8/8 [==============================] - 0s 18ms/step - loss: 1.1973 - accuracy: 0.5347 - val_loss: 1.5860 - val_accuracy: 0.3800\n",
            "Epoch 12/32\n",
            "8/8 [==============================] - 0s 18ms/step - loss: 1.1597 - accuracy: 0.5502 - val_loss: 1.6225 - val_accuracy: 0.3000\n",
            "Epoch 13/32\n",
            "8/8 [==============================] - 0s 17ms/step - loss: 1.1340 - accuracy: 0.5458 - val_loss: 1.6210 - val_accuracy: 0.3000\n",
            "Epoch 14/32\n",
            "8/8 [==============================] - 0s 18ms/step - loss: 1.0890 - accuracy: 0.5799 - val_loss: 1.5959 - val_accuracy: 0.3500\n",
            "Epoch 15/32\n",
            "8/8 [==============================] - 0s 19ms/step - loss: 1.0488 - accuracy: 0.5954 - val_loss: 1.6548 - val_accuracy: 0.3000\n",
            "Epoch 16/32\n",
            "8/8 [==============================] - 0s 19ms/step - loss: 1.0337 - accuracy: 0.5965 - val_loss: 1.5917 - val_accuracy: 0.3500\n",
            "Epoch 17/32\n",
            "8/8 [==============================] - 0s 19ms/step - loss: 0.9982 - accuracy: 0.6152 - val_loss: 1.6039 - val_accuracy: 0.3000\n",
            "Epoch 18/32\n",
            "8/8 [==============================] - 0s 19ms/step - loss: 0.9590 - accuracy: 0.6362 - val_loss: 1.6766 - val_accuracy: 0.4000\n",
            "Epoch 19/32\n",
            "8/8 [==============================] - 0s 18ms/step - loss: 0.9464 - accuracy: 0.6538 - val_loss: 1.5253 - val_accuracy: 0.3600\n",
            "Epoch 20/32\n",
            "8/8 [==============================] - 0s 17ms/step - loss: 0.9047 - accuracy: 0.6770 - val_loss: 1.6334 - val_accuracy: 0.3600\n",
            "Epoch 21/32\n",
            "8/8 [==============================] - 0s 17ms/step - loss: 0.8866 - accuracy: 0.6725 - val_loss: 1.7964 - val_accuracy: 0.3400\n",
            "Epoch 22/32\n",
            "8/8 [==============================] - 0s 18ms/step - loss: 0.8862 - accuracy: 0.6748 - val_loss: 1.8453 - val_accuracy: 0.3100\n",
            "Epoch 23/32\n",
            "8/8 [==============================] - 0s 17ms/step - loss: 0.8914 - accuracy: 0.6803 - val_loss: 1.5443 - val_accuracy: 0.3600\n",
            "Epoch 24/32\n",
            "8/8 [==============================] - 0s 19ms/step - loss: 0.7979 - accuracy: 0.7266 - val_loss: 1.5322 - val_accuracy: 0.4300\n",
            "Epoch 25/32\n",
            "8/8 [==============================] - 0s 17ms/step - loss: 0.7790 - accuracy: 0.7343 - val_loss: 1.5231 - val_accuracy: 0.4100\n",
            "Epoch 26/32\n",
            "8/8 [==============================] - 0s 18ms/step - loss: 0.7818 - accuracy: 0.7387 - val_loss: 1.5159 - val_accuracy: 0.4600\n",
            "Epoch 27/32\n",
            "8/8 [==============================] - 0s 18ms/step - loss: 0.7405 - accuracy: 0.7596 - val_loss: 1.5432 - val_accuracy: 0.3600\n",
            "Epoch 28/32\n",
            "8/8 [==============================] - 0s 18ms/step - loss: 0.7318 - accuracy: 0.7442 - val_loss: 1.6971 - val_accuracy: 0.3000\n",
            "Epoch 29/32\n",
            "8/8 [==============================] - 0s 19ms/step - loss: 0.7321 - accuracy: 0.7497 - val_loss: 1.5806 - val_accuracy: 0.3700\n",
            "Epoch 30/32\n",
            "8/8 [==============================] - 0s 18ms/step - loss: 0.6772 - accuracy: 0.7740 - val_loss: 1.6032 - val_accuracy: 0.3100\n",
            "Epoch 31/32\n",
            "8/8 [==============================] - 0s 19ms/step - loss: 0.6731 - accuracy: 0.7751 - val_loss: 1.7329 - val_accuracy: 0.3300\n",
            "Epoch 32/32\n",
            "8/8 [==============================] - 0s 17ms/step - loss: 0.6863 - accuracy: 0.7707 - val_loss: 1.6484 - val_accuracy: 0.4000\n"
          ]
        }
      ]
    },
    {
      "cell_type": "code",
      "metadata": {
        "id": "c51163ff"
      },
      "source": [
        "y_predict_prob = vgg_model_transfer.predict(X_test)\n"
      ],
      "id": "c51163ff",
      "execution_count": null,
      "outputs": []
    },
    {
      "cell_type": "code",
      "metadata": {
        "id": "bc51f605"
      },
      "source": [
        "y_predict = y_predict_prob.argmax(axis=-1)"
      ],
      "id": "bc51f605",
      "execution_count": null,
      "outputs": []
    },
    {
      "cell_type": "code",
      "metadata": {
        "id": "2a6990d4",
        "colab": {
          "base_uri": "https://localhost:8080/"
        },
        "outputId": "c7303e8d-146b-4f03-ca2a-9170f0095b6e"
      },
      "source": [
        "from sklearn.metrics import confusion_matrix\n",
        "\n",
        "conf_mx = confusion_matrix(y_test, y_predict)\n",
        "print('Confusion matrix: \\n{0}'.format(conf_mx))"
      ],
      "id": "2a6990d4",
      "execution_count": null,
      "outputs": [
        {
          "output_type": "stream",
          "name": "stdout",
          "text": [
            "Confusion matrix: \n",
            "[[14  4  0  2  0]\n",
            " [ 6 11  0  3  0]\n",
            " [ 5  8  3  4  0]\n",
            " [ 4  5  2  8  1]\n",
            " [ 2 10  2  2  4]]\n"
          ]
        }
      ]
    },
    {
      "cell_type": "code",
      "metadata": {
        "id": "0955292b",
        "colab": {
          "base_uri": "https://localhost:8080/",
          "height": 476
        },
        "outputId": "38a447d3-41e2-4abc-f0d7-9003a731697c"
      },
      "source": [
        "import matplotlib.pyplot as plt\n",
        "def plot_confusion_matrix(matrix):\n",
        "    \"\"\"If you prefer color and a colorbar\"\"\"\n",
        "    fig = plt.figure(figsize=(8,8))\n",
        "    ax = fig.add_subplot(111)\n",
        "    cax = ax.matshow(matrix)\n",
        "    fig.colorbar(cax)\n",
        "    \n",
        "row_sums = conf_mx.sum(axis=1, keepdims=True)\n",
        "norm_conf_mx = conf_mx / row_sums\n",
        "np.fill_diagonal(norm_conf_mx, 0)\n",
        "# plt.matshow(norm_conf_mx, cmap=plt.cm.gray)\n",
        "plot_confusion_matrix(norm_conf_mx)\n",
        "plt.show()"
      ],
      "id": "0955292b",
      "execution_count": null,
      "outputs": [
        {
          "output_type": "display_data",
          "data": {
            "image/png": "[encoded data removed]",
            "text/plain": [
              "<Figure size 576x576 with 2 Axes>"
            ]
          },
          "metadata": {
            "needs_background": "light"
          }
        }
      ]
    },
    {
      "cell_type": "code",
      "metadata": {
        "colab": {
          "base_uri": "https://localhost:8080/"
        },
        "id": "z03Ksai9_7kp",
        "outputId": "351599fe-64a2-4ff8-deab-2e92161c7f3a"
      },
      "source": [
        "from sklearn.metrics import classification_report\n",
        "\n",
        "print(classification_report(y_test, y_predict))"
      ],
      "id": "z03Ksai9_7kp",
      "execution_count": null,
      "outputs": [
        {
          "output_type": "stream",
          "name": "stdout",
          "text": [
            "              precision    recall  f1-score   support\n",
            "\n",
            "           0       0.45      0.70      0.55        20\n",
            "           1       0.29      0.55      0.38        20\n",
            "           2       0.43      0.15      0.22        20\n",
            "           3       0.42      0.40      0.41        20\n",
            "           4       0.80      0.20      0.32        20\n",
            "\n",
            "    accuracy                           0.40       100\n",
            "   macro avg       0.48      0.40      0.38       100\n",
            "weighted avg       0.48      0.40      0.38       100\n",
            "\n"
          ]
        }
      ]
    },
    {
      "cell_type": "markdown",
      "metadata": {
        "id": "193040bf"
      },
      "source": [
        "### Learning Curves"
      ],
      "id": "193040bf"
    },
    {
      "cell_type": "code",
      "metadata": {
        "id": "6d3c7785",
        "colab": {
          "base_uri": "https://localhost:8080/",
          "height": 295
        },
        "outputId": "bf9843c0-b9b3-4a00-9bc7-5b70bc53aa8c"
      },
      "source": [
        "# dictionary keys seems to have changed in version 2\n",
        "k = ''\n",
        "if 'accuracy' in history.history :\n",
        "    k = 'accuracy'    \n",
        "\n",
        "if 'acc' in history.history :\n",
        "    k = 'acc'\n",
        "    \n",
        "if k != '' :    \n",
        "    plt.plot(history.history[k])\n",
        "    plt.plot(history.history['val_'+k])\n",
        "    plt.title('Model Accuracy')\n",
        "    plt.ylabel('Accuracy')\n",
        "    plt.xlabel('Epoch')\n",
        "    plt.legend(['train', 'test'], loc='upper left')\n",
        "    plt.show()\n"
      ],
      "id": "6d3c7785",
      "execution_count": null,
      "outputs": [
        {
          "output_type": "display_data",
          "data": {
            "image/png": "[encoded data removed]",
            "text/plain": [
              "<Figure size 432x288 with 1 Axes>"
            ]
          },
          "metadata": {
            "needs_background": "light"
          }
        }
      ]
    },
    {
      "cell_type": "code",
      "metadata": {
        "id": "352cd3ff",
        "colab": {
          "base_uri": "https://localhost:8080/",
          "height": 295
        },
        "outputId": "97d12012-f5d3-44b4-b950-2598f659c5aa"
      },
      "source": [
        "plt.plot(history.history['loss'])\n",
        "plt.plot(history.history['val_loss'])\n",
        "plt.title('Model loss')\n",
        "plt.ylabel('Loss')\n",
        "plt.xlabel('Epoch')\n",
        "plt.legend(['train', 'test'], loc='upper left')\n",
        "plt.show()\n",
        "\n"
      ],
      "id": "352cd3ff",
      "execution_count": null,
      "outputs": [
        {
          "output_type": "display_data",
          "data": {
            "image/png": "[encoded data removed]",
            "text/plain": [
              "<Figure size 432x288 with 1 Axes>"
            ]
          },
          "metadata": {
            "needs_background": "light"
          }
        }
      ]
    },
    {
      "cell_type": "code",
      "metadata": {
        "id": "fe79f584"
      },
      "source": [
        ""
      ],
      "id": "fe79f584",
      "execution_count": null,
      "outputs": []
    },
    {
      "cell_type": "markdown",
      "metadata": {
        "id": "2682b1d7"
      },
      "source": [
        "## 3.2. Basic Transfer Learning: Regression Network [2]"
      ],
      "id": "2682b1d7"
    },
    {
      "cell_type": "markdown",
      "metadata": {
        "id": "01891a18"
      },
      "source": [
        "Repeat the steps of Question 3.1 but turn it into a regression problem, i.e., your network needs to\n",
        "output a single float value ranging between 0 to 6 corresponding to the number of leaves. Again,\n",
        "please print your learning curves for training and validation. You are not expected to fine-tune\n",
        "the initial VGG layers. Give your mean squared error on training including validation and testing\n",
        "data sets."
      ],
      "id": "01891a18"
    },
    {
      "cell_type": "code",
      "metadata": {
        "id": "23030ebf"
      },
      "source": [
        "vgg_edited = Model(inputs=vgg.input, outputs=vgg.get_layer(\"block2_pool\").output)\n",
        "for layer in vgg_edited.layers:\n",
        "    layer.trainable = False\n",
        "\n",
        "# We will have to use the functional API    \n",
        "\n",
        "# last layers output\n",
        "x = vgg_edited.layers[-1].output\n",
        "# Flatten as before\n",
        "x = Flatten()(x)\n",
        "x = Dense(256, activation='relu')(x)\n",
        "x = Dense(1, kernel_initializer='normal',activation='linear')(x)\n",
        "from tensorflow.keras.models import Model\n",
        "vgg_model_transfer_linear = Model(inputs=vgg_edited.input, outputs=x)"
      ],
      "id": "23030ebf",
      "execution_count": null,
      "outputs": []
    },
    {
      "cell_type": "code",
      "metadata": {
        "scrolled": true,
        "id": "2123b3d7",
        "colab": {
          "base_uri": "https://localhost:8080/"
        },
        "outputId": "6a758b59-ec28-4eda-c99f-8c613994b8fe"
      },
      "source": [
        "sgd = tensorflow.keras.optimizers.SGD(lr=0.0008)\n",
        "vgg_model_transfer_linear.compile(loss='mean_absolute_error', optimizer='adam', metrics=['mean_absolute_error'])\n",
        "\n",
        "\n",
        "history = vgg_model_transfer_linear.fit(X_train, y_train_k, batch_size=128, epochs=50, verbose=1, \n",
        "                                 validation_data=(X_test, y_test_k))"
      ],
      "id": "2123b3d7",
      "execution_count": null,
      "outputs": [
        {
          "output_type": "stream",
          "name": "stderr",
          "text": [
            "/usr/local/lib/python3.7/dist-packages/keras/optimizer_v2/gradient_descent.py:102: UserWarning: The `lr` argument is deprecated, use `learning_rate` instead.\n",
            "  super(SGD, self).__init__(name, **kwargs)\n"
          ]
        },
        {
          "output_type": "stream",
          "name": "stdout",
          "text": [
            "Epoch 1/50\n",
            "8/8 [==============================] - 1s 45ms/step - loss: 1.0658 - mean_absolute_error: 1.0658 - val_loss: 0.2017 - val_mean_absolute_error: 0.2017\n",
            "Epoch 2/50\n",
            "8/8 [==============================] - 0s 24ms/step - loss: 0.2003 - mean_absolute_error: 0.2003 - val_loss: 0.2002 - val_mean_absolute_error: 0.2002\n",
            "Epoch 3/50\n",
            "8/8 [==============================] - 0s 23ms/step - loss: 0.2002 - mean_absolute_error: 0.2002 - val_loss: 0.2001 - val_mean_absolute_error: 0.2001\n",
            "Epoch 4/50\n",
            "8/8 [==============================] - 0s 22ms/step - loss: 0.2000 - mean_absolute_error: 0.2000 - val_loss: 0.2001 - val_mean_absolute_error: 0.2001\n",
            "Epoch 5/50\n",
            "8/8 [==============================] - 0s 23ms/step - loss: 0.2001 - mean_absolute_error: 0.2001 - val_loss: 0.2000 - val_mean_absolute_error: 0.2000\n",
            "Epoch 6/50\n",
            "8/8 [==============================] - 0s 22ms/step - loss: 0.2001 - mean_absolute_error: 0.2001 - val_loss: 0.2000 - val_mean_absolute_error: 0.2000\n",
            "Epoch 7/50\n",
            "8/8 [==============================] - 0s 22ms/step - loss: 0.2000 - mean_absolute_error: 0.2000 - val_loss: 0.2001 - val_mean_absolute_error: 0.2001\n",
            "Epoch 8/50\n",
            "8/8 [==============================] - 0s 23ms/step - loss: 0.2001 - mean_absolute_error: 0.2001 - val_loss: 0.2000 - val_mean_absolute_error: 0.2000\n",
            "Epoch 9/50\n",
            "8/8 [==============================] - 0s 22ms/step - loss: 0.2001 - mean_absolute_error: 0.2001 - val_loss: 0.2000 - val_mean_absolute_error: 0.2000\n",
            "Epoch 10/50\n",
            "8/8 [==============================] - 0s 22ms/step - loss: 0.2000 - mean_absolute_error: 0.2000 - val_loss: 0.2001 - val_mean_absolute_error: 0.2001\n",
            "Epoch 11/50\n",
            "8/8 [==============================] - 0s 21ms/step - loss: 0.2001 - mean_absolute_error: 0.2001 - val_loss: 0.2000 - val_mean_absolute_error: 0.2000\n",
            "Epoch 12/50\n",
            "8/8 [==============================] - 0s 22ms/step - loss: 0.2001 - mean_absolute_error: 0.2001 - val_loss: 0.2000 - val_mean_absolute_error: 0.2000\n",
            "Epoch 13/50\n",
            "8/8 [==============================] - 0s 22ms/step - loss: 0.2000 - mean_absolute_error: 0.2000 - val_loss: 0.2001 - val_mean_absolute_error: 0.2001\n",
            "Epoch 14/50\n",
            "8/8 [==============================] - 0s 21ms/step - loss: 0.2001 - mean_absolute_error: 0.2001 - val_loss: 0.2000 - val_mean_absolute_error: 0.2000\n",
            "Epoch 15/50\n",
            "8/8 [==============================] - 0s 20ms/step - loss: 0.2001 - mean_absolute_error: 0.2001 - val_loss: 0.2000 - val_mean_absolute_error: 0.2000\n",
            "Epoch 16/50\n",
            "8/8 [==============================] - 0s 20ms/step - loss: 0.2000 - mean_absolute_error: 0.2000 - val_loss: 0.2001 - val_mean_absolute_error: 0.2001\n",
            "Epoch 17/50\n",
            "8/8 [==============================] - 0s 22ms/step - loss: 0.2001 - mean_absolute_error: 0.2001 - val_loss: 0.2000 - val_mean_absolute_error: 0.2000\n",
            "Epoch 18/50\n",
            "8/8 [==============================] - 0s 20ms/step - loss: 0.2001 - mean_absolute_error: 0.2001 - val_loss: 0.2000 - val_mean_absolute_error: 0.2000\n",
            "Epoch 19/50\n",
            "8/8 [==============================] - 0s 19ms/step - loss: 0.2000 - mean_absolute_error: 0.2000 - val_loss: 0.2001 - val_mean_absolute_error: 0.2001\n",
            "Epoch 20/50\n",
            "8/8 [==============================] - 0s 21ms/step - loss: 0.2001 - mean_absolute_error: 0.2001 - val_loss: 0.2000 - val_mean_absolute_error: 0.2000\n",
            "Epoch 21/50\n",
            "8/8 [==============================] - 0s 21ms/step - loss: 0.2001 - mean_absolute_error: 0.2001 - val_loss: 0.2000 - val_mean_absolute_error: 0.2000\n",
            "Epoch 22/50\n",
            "8/8 [==============================] - 0s 20ms/step - loss: 0.2000 - mean_absolute_error: 0.2000 - val_loss: 0.2001 - val_mean_absolute_error: 0.2001\n",
            "Epoch 23/50\n",
            "8/8 [==============================] - 0s 21ms/step - loss: 0.2001 - mean_absolute_error: 0.2001 - val_loss: 0.2000 - val_mean_absolute_error: 0.2000\n",
            "Epoch 24/50\n",
            "8/8 [==============================] - 0s 21ms/step - loss: 0.2001 - mean_absolute_error: 0.2001 - val_loss: 0.2000 - val_mean_absolute_error: 0.2000\n",
            "Epoch 25/50\n",
            "8/8 [==============================] - 0s 22ms/step - loss: 0.2000 - mean_absolute_error: 0.2000 - val_loss: 0.2001 - val_mean_absolute_error: 0.2001\n",
            "Epoch 26/50\n",
            "8/8 [==============================] - 0s 21ms/step - loss: 0.2001 - mean_absolute_error: 0.2001 - val_loss: 0.2000 - val_mean_absolute_error: 0.2000\n",
            "Epoch 27/50\n",
            "8/8 [==============================] - 0s 21ms/step - loss: 0.2001 - mean_absolute_error: 0.2001 - val_loss: 0.2000 - val_mean_absolute_error: 0.2000\n",
            "Epoch 28/50\n",
            "8/8 [==============================] - 0s 21ms/step - loss: 0.2000 - mean_absolute_error: 0.2000 - val_loss: 0.2001 - val_mean_absolute_error: 0.2001\n",
            "Epoch 29/50\n",
            "8/8 [==============================] - 0s 22ms/step - loss: 0.2001 - mean_absolute_error: 0.2001 - val_loss: 0.2000 - val_mean_absolute_error: 0.2000\n",
            "Epoch 30/50\n",
            "8/8 [==============================] - 0s 21ms/step - loss: 0.2001 - mean_absolute_error: 0.2001 - val_loss: 0.2000 - val_mean_absolute_error: 0.2000\n",
            "Epoch 31/50\n",
            "8/8 [==============================] - 0s 22ms/step - loss: 0.2000 - mean_absolute_error: 0.2000 - val_loss: 0.2001 - val_mean_absolute_error: 0.2001\n",
            "Epoch 32/50\n",
            "8/8 [==============================] - 0s 21ms/step - loss: 0.2001 - mean_absolute_error: 0.2001 - val_loss: 0.2000 - val_mean_absolute_error: 0.2000\n",
            "Epoch 33/50\n",
            "8/8 [==============================] - 0s 21ms/step - loss: 0.2001 - mean_absolute_error: 0.2001 - val_loss: 0.2000 - val_mean_absolute_error: 0.2000\n",
            "Epoch 34/50\n",
            "8/8 [==============================] - 0s 19ms/step - loss: 0.2000 - mean_absolute_error: 0.2000 - val_loss: 0.2001 - val_mean_absolute_error: 0.2001\n",
            "Epoch 35/50\n",
            "8/8 [==============================] - 0s 21ms/step - loss: 0.2001 - mean_absolute_error: 0.2001 - val_loss: 0.2000 - val_mean_absolute_error: 0.2000\n",
            "Epoch 36/50\n",
            "8/8 [==============================] - 0s 19ms/step - loss: 0.2001 - mean_absolute_error: 0.2001 - val_loss: 0.2001 - val_mean_absolute_error: 0.2001\n",
            "Epoch 37/50\n",
            "8/8 [==============================] - 0s 21ms/step - loss: 0.2001 - mean_absolute_error: 0.2001 - val_loss: 0.2000 - val_mean_absolute_error: 0.2000\n",
            "Epoch 38/50\n",
            "8/8 [==============================] - 0s 20ms/step - loss: 0.2001 - mean_absolute_error: 0.2001 - val_loss: 0.2000 - val_mean_absolute_error: 0.2000\n",
            "Epoch 39/50\n",
            "8/8 [==============================] - 0s 20ms/step - loss: 0.2000 - mean_absolute_error: 0.2000 - val_loss: 0.2001 - val_mean_absolute_error: 0.2001\n",
            "Epoch 40/50\n",
            "8/8 [==============================] - 0s 19ms/step - loss: 0.2001 - mean_absolute_error: 0.2001 - val_loss: 0.2000 - val_mean_absolute_error: 0.2000\n",
            "Epoch 41/50\n",
            "8/8 [==============================] - 0s 22ms/step - loss: 0.2001 - mean_absolute_error: 0.2001 - val_loss: 0.2001 - val_mean_absolute_error: 0.2001\n",
            "Epoch 42/50\n",
            "8/8 [==============================] - 0s 20ms/step - loss: 0.2001 - mean_absolute_error: 0.2001 - val_loss: 0.2000 - val_mean_absolute_error: 0.2000\n",
            "Epoch 43/50\n",
            "8/8 [==============================] - 0s 20ms/step - loss: 0.2001 - mean_absolute_error: 0.2001 - val_loss: 0.2000 - val_mean_absolute_error: 0.2000\n",
            "Epoch 44/50\n",
            "8/8 [==============================] - 0s 21ms/step - loss: 0.2000 - mean_absolute_error: 0.2000 - val_loss: 0.2001 - val_mean_absolute_error: 0.2001\n",
            "Epoch 45/50\n",
            "8/8 [==============================] - 0s 20ms/step - loss: 0.2001 - mean_absolute_error: 0.2001 - val_loss: 0.2000 - val_mean_absolute_error: 0.2000\n",
            "Epoch 46/50\n",
            "8/8 [==============================] - 0s 20ms/step - loss: 0.2001 - mean_absolute_error: 0.2001 - val_loss: 0.2001 - val_mean_absolute_error: 0.2001\n",
            "Epoch 47/50\n",
            "8/8 [==============================] - 0s 21ms/step - loss: 0.2001 - mean_absolute_error: 0.2001 - val_loss: 0.2000 - val_mean_absolute_error: 0.2000\n",
            "Epoch 48/50\n",
            "8/8 [==============================] - 0s 19ms/step - loss: 0.2001 - mean_absolute_error: 0.2001 - val_loss: 0.2000 - val_mean_absolute_error: 0.2000\n",
            "Epoch 49/50\n",
            "8/8 [==============================] - 0s 21ms/step - loss: 0.2000 - mean_absolute_error: 0.2000 - val_loss: 0.2001 - val_mean_absolute_error: 0.2001\n",
            "Epoch 50/50\n",
            "8/8 [==============================] - 0s 20ms/step - loss: 0.2001 - mean_absolute_error: 0.2001 - val_loss: 0.2000 - val_mean_absolute_error: 0.2000\n"
          ]
        }
      ]
    },
    {
      "cell_type": "code",
      "metadata": {
        "id": "945ab0b3",
        "colab": {
          "base_uri": "https://localhost:8080/"
        },
        "outputId": "638129c3-4fc4-439c-88a3-27c0410d9018"
      },
      "source": [
        "y_predict_prob = vgg_model_transfer_linear.predict(X_test)\n",
        "y_predict = y_predict_prob.argmax(axis=-1)\n",
        "conf_mx = confusion_matrix(y_test, y_predict)\n",
        "print('Confusion matrix: \\n{0}'.format(conf_mx))"
      ],
      "id": "945ab0b3",
      "execution_count": null,
      "outputs": [
        {
          "output_type": "stream",
          "name": "stdout",
          "text": [
            "Confusion matrix: \n",
            "[[20  0  0  0  0]\n",
            " [20  0  0  0  0]\n",
            " [20  0  0  0  0]\n",
            " [20  0  0  0  0]\n",
            " [20  0  0  0  0]]\n"
          ]
        }
      ]
    },
    {
      "cell_type": "code",
      "metadata": {
        "id": "4dac8bfe",
        "colab": {
          "base_uri": "https://localhost:8080/",
          "height": 476
        },
        "outputId": "4545b414-e3ae-454d-ef0b-9b9bd9064498"
      },
      "source": [
        "row_sums = conf_mx.sum(axis=1, keepdims=True)\n",
        "norm_conf_mx = conf_mx / row_sums\n",
        "np.fill_diagonal(norm_conf_mx, 0)\n",
        "# plt.matshow(norm_conf_mx, cmap=plt.cm.gray)\n",
        "plot_confusion_matrix(norm_conf_mx)\n",
        "plt.show()"
      ],
      "id": "4dac8bfe",
      "execution_count": null,
      "outputs": [
        {
          "output_type": "display_data",
          "data": {
            "image/png": "[encoded data removed]",
            "text/plain": [
              "<Figure size 576x576 with 2 Axes>"
            ]
          },
          "metadata": {
            "needs_background": "light"
          }
        }
      ]
    },
    {
      "cell_type": "code",
      "metadata": {
        "colab": {
          "base_uri": "https://localhost:8080/"
        },
        "id": "vch766SYMMok",
        "outputId": "4ae965b3-e9c4-4065-de8d-7d825f1ccf84"
      },
      "source": [
        "print(classification_report(y_test, y_predict))"
      ],
      "id": "vch766SYMMok",
      "execution_count": null,
      "outputs": [
        {
          "output_type": "stream",
          "name": "stdout",
          "text": [
            "              precision    recall  f1-score   support\n",
            "\n",
            "           0       0.20      1.00      0.33        20\n",
            "           1       0.00      0.00      0.00        20\n",
            "           2       0.00      0.00      0.00        20\n",
            "           3       0.00      0.00      0.00        20\n",
            "           4       0.00      0.00      0.00        20\n",
            "\n",
            "    accuracy                           0.20       100\n",
            "   macro avg       0.04      0.20      0.07       100\n",
            "weighted avg       0.04      0.20      0.07       100\n",
            "\n"
          ]
        },
        {
          "output_type": "stream",
          "name": "stderr",
          "text": [
            "/usr/local/lib/python3.7/dist-packages/sklearn/metrics/_classification.py:1308: UndefinedMetricWarning: Precision and F-score are ill-defined and being set to 0.0 in labels with no predicted samples. Use `zero_division` parameter to control this behavior.\n",
            "  _warn_prf(average, modifier, msg_start, len(result))\n",
            "/usr/local/lib/python3.7/dist-packages/sklearn/metrics/_classification.py:1308: UndefinedMetricWarning: Precision and F-score are ill-defined and being set to 0.0 in labels with no predicted samples. Use `zero_division` parameter to control this behavior.\n",
            "  _warn_prf(average, modifier, msg_start, len(result))\n",
            "/usr/local/lib/python3.7/dist-packages/sklearn/metrics/_classification.py:1308: UndefinedMetricWarning: Precision and F-score are ill-defined and being set to 0.0 in labels with no predicted samples. Use `zero_division` parameter to control this behavior.\n",
            "  _warn_prf(average, modifier, msg_start, len(result))\n"
          ]
        }
      ]
    },
    {
      "cell_type": "markdown",
      "metadata": {
        "id": "dbdc3ced"
      },
      "source": [
        "### Learning Curves"
      ],
      "id": "dbdc3ced"
    },
    {
      "cell_type": "code",
      "metadata": {
        "colab": {
          "base_uri": "https://localhost:8080/",
          "height": 295
        },
        "id": "eQSrTt_IOaMC",
        "outputId": "8c59f5ef-4eb8-4144-b9fe-80fb0ca4adba"
      },
      "source": [
        "# dictionary keys seems to have changed in version 2\n",
        "k = ''\n",
        "if 'mean_absolute_error' in history.history :\n",
        "    k = 'mean_absolute_error'    \n",
        "\n",
        "\n",
        "if k != '' :    \n",
        "    plt.plot(history.history[k])\n",
        "    plt.plot(history.history['val_'+k])\n",
        "    plt.title('Model mean_absolute_error')\n",
        "    plt.ylabel('mean_absolute_error')\n",
        "    plt.xlabel('Epoch')\n",
        "    plt.legend(['train', 'test'], loc='upper left')\n",
        "    plt.show()\n"
      ],
      "id": "eQSrTt_IOaMC",
      "execution_count": null,
      "outputs": [
        {
          "output_type": "display_data",
          "data": {
            "image/png": "[encoded data removed]",
            "text/plain": [
              "<Figure size 432x288 with 1 Axes>"
            ]
          },
          "metadata": {
            "needs_background": "light"
          }
        }
      ]
    },
    {
      "cell_type": "code",
      "metadata": {
        "id": "13c7ee58",
        "colab": {
          "base_uri": "https://localhost:8080/",
          "height": 295
        },
        "outputId": "e429fa26-5b89-45a6-97a9-d06af89089b6"
      },
      "source": [
        "plt.plot(history.history['loss'])\n",
        "plt.plot(history.history['val_loss'])\n",
        "plt.title('Model loss')\n",
        "plt.ylabel('Loss')\n",
        "plt.xlabel('Epoch')\n",
        "plt.legend(['train', 'test'], loc='upper left')\n",
        "plt.show()\n",
        "\n"
      ],
      "id": "13c7ee58",
      "execution_count": null,
      "outputs": [
        {
          "output_type": "display_data",
          "data": {
            "image/png": "[encoded data removed]",
            "text/plain": [
              "<Figure size 432x288 with 1 Axes>"
            ]
          },
          "metadata": {
            "needs_background": "light"
          }
        }
      ]
    },
    {
      "cell_type": "markdown",
      "metadata": {
        "id": "-f-kB_CcPJmJ"
      },
      "source": [
        "Classification report on training data"
      ],
      "id": "-f-kB_CcPJmJ"
    },
    {
      "cell_type": "code",
      "metadata": {
        "colab": {
          "base_uri": "https://localhost:8080/"
        },
        "id": "8ltPtO2ZOwK9",
        "outputId": "bbd4dfa1-1f12-4561-ac92-63f3e0f50496"
      },
      "source": [
        "y_predict_prob_train = vgg_model_transfer_linear.predict(X_train)\n",
        "y_predict_train = y_predict_prob_train.argmax(axis=-1)\n",
        "print(classification_report(y_train, y_predict_train))"
      ],
      "id": "8ltPtO2ZOwK9",
      "execution_count": null,
      "outputs": [
        {
          "output_type": "stream",
          "name": "stdout",
          "text": [
            "              precision    recall  f1-score   support\n",
            "\n",
            "           0       0.20      1.00      0.33       180\n",
            "           1       0.00      0.00      0.00       180\n",
            "           2       0.00      0.00      0.00       187\n",
            "           3       0.00      0.00      0.00       180\n",
            "           4       0.00      0.00      0.00       180\n",
            "\n",
            "    accuracy                           0.20       907\n",
            "   macro avg       0.04      0.20      0.07       907\n",
            "weighted avg       0.04      0.20      0.07       907\n",
            "\n"
          ]
        },
        {
          "output_type": "stream",
          "name": "stderr",
          "text": [
            "/usr/local/lib/python3.7/dist-packages/sklearn/metrics/_classification.py:1308: UndefinedMetricWarning: Precision and F-score are ill-defined and being set to 0.0 in labels with no predicted samples. Use `zero_division` parameter to control this behavior.\n",
            "  _warn_prf(average, modifier, msg_start, len(result))\n",
            "/usr/local/lib/python3.7/dist-packages/sklearn/metrics/_classification.py:1308: UndefinedMetricWarning: Precision and F-score are ill-defined and being set to 0.0 in labels with no predicted samples. Use `zero_division` parameter to control this behavior.\n",
            "  _warn_prf(average, modifier, msg_start, len(result))\n",
            "/usr/local/lib/python3.7/dist-packages/sklearn/metrics/_classification.py:1308: UndefinedMetricWarning: Precision and F-score are ill-defined and being set to 0.0 in labels with no predicted samples. Use `zero_division` parameter to control this behavior.\n",
            "  _warn_prf(average, modifier, msg_start, len(result))\n"
          ]
        }
      ]
    },
    {
      "cell_type": "markdown",
      "metadata": {
        "id": "agUpkY9APO3x"
      },
      "source": [
        "Classification report on testing data"
      ],
      "id": "agUpkY9APO3x"
    },
    {
      "cell_type": "code",
      "metadata": {
        "colab": {
          "base_uri": "https://localhost:8080/"
        },
        "id": "nAyyIvEjAe4C",
        "outputId": "91249f49-da9b-4d97-88de-2474053ec0da"
      },
      "source": [
        "print(classification_report(y_test, y_predict))"
      ],
      "id": "nAyyIvEjAe4C",
      "execution_count": null,
      "outputs": [
        {
          "output_type": "stream",
          "name": "stdout",
          "text": [
            "              precision    recall  f1-score   support\n",
            "\n",
            "           0       0.20      1.00      0.33        20\n",
            "           1       0.00      0.00      0.00        20\n",
            "           2       0.00      0.00      0.00        20\n",
            "           3       0.00      0.00      0.00        20\n",
            "           4       0.00      0.00      0.00        20\n",
            "\n",
            "    accuracy                           0.20       100\n",
            "   macro avg       0.04      0.20      0.07       100\n",
            "weighted avg       0.04      0.20      0.07       100\n",
            "\n"
          ]
        },
        {
          "output_type": "stream",
          "name": "stderr",
          "text": [
            "/usr/local/lib/python3.7/dist-packages/sklearn/metrics/_classification.py:1308: UndefinedMetricWarning: Precision and F-score are ill-defined and being set to 0.0 in labels with no predicted samples. Use `zero_division` parameter to control this behavior.\n",
            "  _warn_prf(average, modifier, msg_start, len(result))\n",
            "/usr/local/lib/python3.7/dist-packages/sklearn/metrics/_classification.py:1308: UndefinedMetricWarning: Precision and F-score are ill-defined and being set to 0.0 in labels with no predicted samples. Use `zero_division` parameter to control this behavior.\n",
            "  _warn_prf(average, modifier, msg_start, len(result))\n",
            "/usr/local/lib/python3.7/dist-packages/sklearn/metrics/_classification.py:1308: UndefinedMetricWarning: Precision and F-score are ill-defined and being set to 0.0 in labels with no predicted samples. Use `zero_division` parameter to control this behavior.\n",
            "  _warn_prf(average, modifier, msg_start, len(result))\n"
          ]
        }
      ]
    },
    {
      "cell_type": "markdown",
      "metadata": {
        "id": "fb1d1966"
      },
      "source": [
        "## 3.3. Discussion [1]"
      ],
      "id": "fb1d1966"
    },
    {
      "cell_type": "markdown",
      "metadata": {
        "id": "99b003bf"
      },
      "source": [
        "The size of the training data is quite small. Discuss based on your learning curves if overfitting is\n",
        "occurring with your networks in Question 3.1 and Question 3.2."
      ],
      "id": "99b003bf"
    },
    {
      "cell_type": "markdown",
      "metadata": {
        "id": "MPxsgwSjKt7I"
      },
      "source": [
        "> 3.1 Model\n",
        ">> The model is overfitted, the test accuracy is very low in comparison with the training accuracy, the training accuracy is up to 80% while the test accuracy is only 40%.\n",
        "The model fails to generalize the data and find the hidden patterns in it.\n",
        "The test loss is fixed, and not decreasing as epochs go, hence the more we increase the number of epochs the same performance we have.\n",
        "The overall accuracy is 40% which is poor performance.\n",
        "The highest f1 score is 55% for the first class which is very fair performace.\n",
        "The lowest f1 score was recorded for the the third class which represents tri-plants.\n",
        "\n"
      ],
      "id": "MPxsgwSjKt7I"
    },
    {
      "cell_type": "markdown",
      "metadata": {
        "id": "2R6wu2kzKt7K"
      },
      "source": [
        "> 3.2 Model\n",
        ">> The model is extremely under fitted, the overall accuracy is 20% in both training and testing data.\n",
        "The model fails to predicts properly all classes except for the first class.\n",
        "The model predicts it only, however with a very low f1 score of 33%. increasing number of epochs even up to 50 epoch does not have any impact on the performance.<br>"
      ],
      "id": "2R6wu2kzKt7K"
    },
    {
      "cell_type": "markdown",
      "metadata": {
        "id": "d372573f"
      },
      "source": [
        "# 4. Improving the Model"
      ],
      "id": "d372573f"
    },
    {
      "cell_type": "markdown",
      "metadata": {
        "id": "ea0622a5"
      },
      "source": [
        "Regularization and data augmentation are common strategies to deal with small datasets."
      ],
      "id": "ea0622a5"
    },
    {
      "cell_type": "markdown",
      "metadata": {
        "id": "0a6d892d"
      },
      "source": [
        "## 4.1. Regularization [1.5]"
      ],
      "id": "0a6d892d"
    },
    {
      "cell_type": "markdown",
      "metadata": {
        "id": "b9553677"
      },
      "source": [
        "Incorporate two regularization methods (e.g., Batch Normalization, Dropout, Weight Normaliza-\n",
        "tion etc.) into your layers of the network. Please pick the model from Question 3.1 and Question 3.2\n",
        "that performs better. You are not expected to fine-tune the initial VGG layers. Again, please\n",
        "print your learning curves for training and validation and print the corresponding metrics for your\n",
        "model."
      ],
      "id": "b9553677"
    },
    {
      "cell_type": "markdown",
      "metadata": {
        "id": "123e77cd"
      },
      "source": [
        "## We picked the classification model eather than the regression model as it's a way better."
      ],
      "id": "123e77cd"
    },
    {
      "cell_type": "markdown",
      "metadata": {
        "id": "431c04a4"
      },
      "source": [
        "### Batch Normalization"
      ],
      "id": "431c04a4"
    },
    {
      "cell_type": "code",
      "metadata": {
        "id": "18817a0f",
        "colab": {
          "base_uri": "https://localhost:8080/"
        },
        "outputId": "5deed774-b599-40f4-f8ee-382ca0d74903"
      },
      "source": [
        "from keras.layers import BatchNormalization\n",
        "\n",
        "\n",
        "vgg = VGG16(weights=\"imagenet\", include_top=False, input_shape=X_train[0].shape)\n",
        "vgg.trainable = False ## Not trainable weights\n",
        "vgg_edited = Model(inputs=vgg.input, outputs=vgg.get_layer(\"block2_pool\").output)\n",
        "for layer in vgg_edited.layers:\n",
        "    layer.trainable = False\n",
        "flat1 = Flatten()(vgg_edited.layers[-1].output)\n",
        "t=BatchNormalization()(flat1)\n",
        "class1 = Dense(256, activation='relu')(t)\n",
        "tt=BatchNormalization()(class1)\n",
        "output = Dense(5, activation='softmax')(tt)\n",
        "\n",
        "model_reg = Model(inputs=vgg_edited.inputs, outputs=output)\n",
        "model_reg.summary()"
      ],
      "id": "18817a0f",
      "execution_count": null,
      "outputs": [
        {
          "output_type": "stream",
          "name": "stdout",
          "text": [
            "Model: \"model_7\"\n",
            "_________________________________________________________________\n",
            " Layer (type)                Output Shape              Param #   \n",
            "=================================================================\n",
            " input_2 (InputLayer)        [(None, 32, 32, 3)]       0         \n",
            "                                                                 \n",
            " block1_conv1 (Conv2D)       (None, 32, 32, 64)        1792      \n",
            "                                                                 \n",
            " block1_conv2 (Conv2D)       (None, 32, 32, 64)        36928     \n",
            "                                                                 \n",
            " block1_pool (MaxPooling2D)  (None, 16, 16, 64)        0         \n",
            "                                                                 \n",
            " block2_conv1 (Conv2D)       (None, 16, 16, 128)       73856     \n",
            "                                                                 \n",
            " block2_conv2 (Conv2D)       (None, 16, 16, 128)       147584    \n",
            "                                                                 \n",
            " block2_pool (MaxPooling2D)  (None, 8, 8, 128)         0         \n",
            "                                                                 \n",
            " flatten_3 (Flatten)         (None, 8192)              0         \n",
            "                                                                 \n",
            " batch_normalization (BatchN  (None, 8192)             32768     \n",
            " ormalization)                                                   \n",
            "                                                                 \n",
            " dense_6 (Dense)             (None, 256)               2097408   \n",
            "                                                                 \n",
            " batch_normalization_1 (Batc  (None, 256)              1024      \n",
            " hNormalization)                                                 \n",
            "                                                                 \n",
            " dense_7 (Dense)             (None, 5)                 1285      \n",
            "                                                                 \n",
            "=================================================================\n",
            "Total params: 2,392,645\n",
            "Trainable params: 2,115,589\n",
            "Non-trainable params: 277,056\n",
            "_________________________________________________________________\n"
          ]
        }
      ]
    },
    {
      "cell_type": "code",
      "metadata": {
        "id": "t8eO7SCp-zTb",
        "colab": {
          "base_uri": "https://localhost:8080/"
        },
        "outputId": "a17b30dd-d11d-4232-ded7-c0d1d0871767"
      },
      "source": [
        "y_train_k = tensorflow.keras.utils.to_categorical(y_train, num_classes=5)\n",
        "y_test_k = tensorflow.keras.utils.to_categorical(y_test, num_classes=5)\n",
        "\n",
        "sgd = tensorflow.keras.optimizers.SGD(lr=0.0008)\n",
        "model_reg.compile(loss='categorical_crossentropy', \n",
        "                           optimizer=sgd, \n",
        "                           metrics=['accuracy'])\n",
        "\n",
        "\n",
        "history = model_reg.fit(X_train, y_train_k, batch_size=128, epochs=50, verbose=1, \n",
        "                                 validation_data=(X_test, y_test_k))\n"
      ],
      "id": "t8eO7SCp-zTb",
      "execution_count": null,
      "outputs": [
        {
          "output_type": "stream",
          "name": "stderr",
          "text": [
            "/usr/local/lib/python3.7/dist-packages/keras/optimizer_v2/gradient_descent.py:102: UserWarning: The `lr` argument is deprecated, use `learning_rate` instead.\n",
            "  super(SGD, self).__init__(name, **kwargs)\n"
          ]
        },
        {
          "output_type": "stream",
          "name": "stdout",
          "text": [
            "Epoch 1/50\n",
            "8/8 [==============================] - 1s 64ms/step - loss: 2.1617 - accuracy: 0.2337 - val_loss: 14.7167 - val_accuracy: 0.1900\n",
            "Epoch 2/50\n",
            "8/8 [==============================] - 0s 25ms/step - loss: 2.0283 - accuracy: 0.2635 - val_loss: 11.0588 - val_accuracy: 0.1700\n",
            "Epoch 3/50\n",
            "8/8 [==============================] - 0s 23ms/step - loss: 1.9009 - accuracy: 0.2878 - val_loss: 8.9752 - val_accuracy: 0.1600\n",
            "Epoch 4/50\n",
            "8/8 [==============================] - 0s 23ms/step - loss: 1.7780 - accuracy: 0.3241 - val_loss: 7.4226 - val_accuracy: 0.1700\n",
            "Epoch 5/50\n",
            "8/8 [==============================] - 0s 24ms/step - loss: 1.6661 - accuracy: 0.3407 - val_loss: 6.4505 - val_accuracy: 0.1700\n",
            "Epoch 6/50\n",
            "8/8 [==============================] - 0s 25ms/step - loss: 1.5866 - accuracy: 0.3826 - val_loss: 5.5442 - val_accuracy: 0.1900\n",
            "Epoch 7/50\n",
            "8/8 [==============================] - 0s 24ms/step - loss: 1.5209 - accuracy: 0.4157 - val_loss: 4.8648 - val_accuracy: 0.1900\n",
            "Epoch 8/50\n",
            "8/8 [==============================] - 0s 23ms/step - loss: 1.4467 - accuracy: 0.4355 - val_loss: 4.3824 - val_accuracy: 0.2000\n",
            "Epoch 9/50\n",
            "8/8 [==============================] - 0s 22ms/step - loss: 1.3882 - accuracy: 0.4542 - val_loss: 3.9535 - val_accuracy: 0.1900\n",
            "Epoch 10/50\n",
            "8/8 [==============================] - 0s 22ms/step - loss: 1.3256 - accuracy: 0.4763 - val_loss: 3.5953 - val_accuracy: 0.1900\n",
            "Epoch 11/50\n",
            "8/8 [==============================] - 0s 21ms/step - loss: 1.2739 - accuracy: 0.4939 - val_loss: 3.2561 - val_accuracy: 0.2200\n",
            "Epoch 12/50\n",
            "8/8 [==============================] - 0s 23ms/step - loss: 1.2218 - accuracy: 0.5138 - val_loss: 2.9955 - val_accuracy: 0.2400\n",
            "Epoch 13/50\n",
            "8/8 [==============================] - 0s 20ms/step - loss: 1.1813 - accuracy: 0.5424 - val_loss: 2.8105 - val_accuracy: 0.2200\n",
            "Epoch 14/50\n",
            "8/8 [==============================] - 0s 22ms/step - loss: 1.1282 - accuracy: 0.5634 - val_loss: 2.6638 - val_accuracy: 0.2200\n",
            "Epoch 15/50\n",
            "8/8 [==============================] - 0s 21ms/step - loss: 1.0846 - accuracy: 0.5755 - val_loss: 2.4694 - val_accuracy: 0.2300\n",
            "Epoch 16/50\n",
            "8/8 [==============================] - 0s 22ms/step - loss: 1.0564 - accuracy: 0.5943 - val_loss: 2.3389 - val_accuracy: 0.2000\n",
            "Epoch 17/50\n",
            "8/8 [==============================] - 0s 22ms/step - loss: 1.0094 - accuracy: 0.6307 - val_loss: 2.2643 - val_accuracy: 0.2000\n",
            "Epoch 18/50\n",
            "8/8 [==============================] - 0s 21ms/step - loss: 0.9829 - accuracy: 0.6362 - val_loss: 2.1846 - val_accuracy: 0.2000\n",
            "Epoch 19/50\n",
            "8/8 [==============================] - 0s 20ms/step - loss: 0.9444 - accuracy: 0.6604 - val_loss: 2.1145 - val_accuracy: 0.2200\n",
            "Epoch 20/50\n",
            "8/8 [==============================] - 0s 21ms/step - loss: 0.9160 - accuracy: 0.6648 - val_loss: 2.0508 - val_accuracy: 0.2200\n",
            "Epoch 21/50\n",
            "8/8 [==============================] - 0s 22ms/step - loss: 0.8738 - accuracy: 0.6968 - val_loss: 2.0172 - val_accuracy: 0.2300\n",
            "Epoch 22/50\n",
            "8/8 [==============================] - 0s 22ms/step - loss: 0.8629 - accuracy: 0.6913 - val_loss: 1.9766 - val_accuracy: 0.2300\n",
            "Epoch 23/50\n",
            "8/8 [==============================] - 0s 24ms/step - loss: 0.8311 - accuracy: 0.7067 - val_loss: 1.9486 - val_accuracy: 0.2500\n",
            "Epoch 24/50\n",
            "8/8 [==============================] - 0s 23ms/step - loss: 0.8067 - accuracy: 0.7222 - val_loss: 1.9243 - val_accuracy: 0.2300\n",
            "Epoch 25/50\n",
            "8/8 [==============================] - 0s 22ms/step - loss: 0.7845 - accuracy: 0.7530 - val_loss: 1.9024 - val_accuracy: 0.2500\n",
            "Epoch 26/50\n",
            "8/8 [==============================] - 0s 23ms/step - loss: 0.7622 - accuracy: 0.7563 - val_loss: 1.8888 - val_accuracy: 0.2400\n",
            "Epoch 27/50\n",
            "8/8 [==============================] - 0s 21ms/step - loss: 0.7489 - accuracy: 0.7552 - val_loss: 1.8700 - val_accuracy: 0.2400\n",
            "Epoch 28/50\n",
            "8/8 [==============================] - 0s 21ms/step - loss: 0.7168 - accuracy: 0.7905 - val_loss: 1.8479 - val_accuracy: 0.2500\n",
            "Epoch 29/50\n",
            "8/8 [==============================] - 0s 22ms/step - loss: 0.7060 - accuracy: 0.7938 - val_loss: 1.8377 - val_accuracy: 0.2700\n",
            "Epoch 30/50\n",
            "8/8 [==============================] - 0s 21ms/step - loss: 0.6861 - accuracy: 0.8037 - val_loss: 1.8309 - val_accuracy: 0.2800\n",
            "Epoch 31/50\n",
            "8/8 [==============================] - 0s 21ms/step - loss: 0.6680 - accuracy: 0.8071 - val_loss: 1.8269 - val_accuracy: 0.2600\n",
            "Epoch 32/50\n",
            "8/8 [==============================] - 0s 22ms/step - loss: 0.6496 - accuracy: 0.8313 - val_loss: 1.8219 - val_accuracy: 0.2800\n",
            "Epoch 33/50\n",
            "8/8 [==============================] - 0s 22ms/step - loss: 0.6275 - accuracy: 0.8401 - val_loss: 1.8166 - val_accuracy: 0.2700\n",
            "Epoch 34/50\n",
            "8/8 [==============================] - 0s 22ms/step - loss: 0.6115 - accuracy: 0.8479 - val_loss: 1.8114 - val_accuracy: 0.2600\n",
            "Epoch 35/50\n",
            "8/8 [==============================] - 0s 21ms/step - loss: 0.6002 - accuracy: 0.8589 - val_loss: 1.8080 - val_accuracy: 0.2600\n",
            "Epoch 36/50\n",
            "8/8 [==============================] - 0s 22ms/step - loss: 0.5903 - accuracy: 0.8512 - val_loss: 1.8100 - val_accuracy: 0.2700\n",
            "Epoch 37/50\n",
            "8/8 [==============================] - 0s 23ms/step - loss: 0.5731 - accuracy: 0.8655 - val_loss: 1.8037 - val_accuracy: 0.2800\n",
            "Epoch 38/50\n",
            "8/8 [==============================] - 0s 21ms/step - loss: 0.5611 - accuracy: 0.8743 - val_loss: 1.7972 - val_accuracy: 0.2900\n",
            "Epoch 39/50\n",
            "8/8 [==============================] - 0s 21ms/step - loss: 0.5399 - accuracy: 0.8842 - val_loss: 1.7869 - val_accuracy: 0.2800\n",
            "Epoch 40/50\n",
            "8/8 [==============================] - 0s 23ms/step - loss: 0.5358 - accuracy: 0.8831 - val_loss: 1.7840 - val_accuracy: 0.2800\n",
            "Epoch 41/50\n",
            "8/8 [==============================] - 0s 22ms/step - loss: 0.5239 - accuracy: 0.8776 - val_loss: 1.7781 - val_accuracy: 0.2900\n",
            "Epoch 42/50\n",
            "8/8 [==============================] - 0s 22ms/step - loss: 0.5076 - accuracy: 0.8975 - val_loss: 1.7725 - val_accuracy: 0.2900\n",
            "Epoch 43/50\n",
            "8/8 [==============================] - 0s 23ms/step - loss: 0.5000 - accuracy: 0.9074 - val_loss: 1.7693 - val_accuracy: 0.2900\n",
            "Epoch 44/50\n",
            "8/8 [==============================] - 0s 22ms/step - loss: 0.4911 - accuracy: 0.9008 - val_loss: 1.7698 - val_accuracy: 0.2800\n",
            "Epoch 45/50\n",
            "8/8 [==============================] - 0s 21ms/step - loss: 0.4787 - accuracy: 0.9140 - val_loss: 1.7697 - val_accuracy: 0.2800\n",
            "Epoch 46/50\n",
            "8/8 [==============================] - 0s 24ms/step - loss: 0.4709 - accuracy: 0.9140 - val_loss: 1.7692 - val_accuracy: 0.3000\n",
            "Epoch 47/50\n",
            "8/8 [==============================] - 0s 23ms/step - loss: 0.4641 - accuracy: 0.9118 - val_loss: 1.7717 - val_accuracy: 0.3000\n",
            "Epoch 48/50\n",
            "8/8 [==============================] - 0s 23ms/step - loss: 0.4478 - accuracy: 0.9184 - val_loss: 1.7723 - val_accuracy: 0.3000\n",
            "Epoch 49/50\n",
            "8/8 [==============================] - 0s 23ms/step - loss: 0.4421 - accuracy: 0.9239 - val_loss: 1.7724 - val_accuracy: 0.3000\n",
            "Epoch 50/50\n",
            "8/8 [==============================] - 0s 22ms/step - loss: 0.4328 - accuracy: 0.9305 - val_loss: 1.7797 - val_accuracy: 0.3000\n"
          ]
        }
      ]
    },
    {
      "cell_type": "code",
      "metadata": {
        "id": "n68y_3g9-1Wo"
      },
      "source": [
        "y_predict_prob = model_reg.predict(X_test)\n",
        "y_predict = y_predict_prob.argmax(axis=-1)"
      ],
      "id": "n68y_3g9-1Wo",
      "execution_count": null,
      "outputs": []
    },
    {
      "cell_type": "code",
      "metadata": {
        "id": "XhhSOpaF-18e",
        "colab": {
          "base_uri": "https://localhost:8080/"
        },
        "outputId": "f476895a-ed1d-41a1-c2ed-e880809fdf92"
      },
      "source": [
        "from sklearn.metrics import confusion_matrix\n",
        "conf_mx = confusion_matrix(y_test, y_predict)\n",
        "conf_mx"
      ],
      "id": "XhhSOpaF-18e",
      "execution_count": null,
      "outputs": [
        {
          "output_type": "execute_result",
          "data": {
            "text/plain": [
              "array([[12,  3,  3,  1,  1],\n",
              "       [ 8,  6,  3,  2,  1],\n",
              "       [ 3,  4,  3,  5,  5],\n",
              "       [ 2,  1,  4,  4,  9],\n",
              "       [ 5,  3,  1,  6,  5]])"
            ]
          },
          "metadata": {},
          "execution_count": 54
        }
      ]
    },
    {
      "cell_type": "code",
      "metadata": {
        "id": "ZG-jBO_q-3d6",
        "colab": {
          "base_uri": "https://localhost:8080/",
          "height": 476
        },
        "outputId": "a63dce25-4f1a-47b2-b8a9-a1dd72d62f52"
      },
      "source": [
        "row_sums = conf_mx.sum(axis=1, keepdims=True)\n",
        "norm_conf_mx = conf_mx / row_sums\n",
        "np.fill_diagonal(norm_conf_mx, 0)\n",
        "# plt.matshow(norm_conf_mx, cmap=plt.cm.gray)\n",
        "plot_confusion_matrix(norm_conf_mx)\n",
        "plt.show()\n"
      ],
      "id": "ZG-jBO_q-3d6",
      "execution_count": null,
      "outputs": [
        {
          "output_type": "display_data",
          "data": {
            "image/png": "[encoded data removed]",
            "text/plain": [
              "<Figure size 576x576 with 2 Axes>"
            ]
          },
          "metadata": {
            "needs_background": "light"
          }
        }
      ]
    },
    {
      "cell_type": "code",
      "metadata": {
        "id": "8pieHxaW-6os",
        "colab": {
          "base_uri": "https://localhost:8080/"
        },
        "outputId": "f110cb55-82b2-45c5-d2b0-ef01a78a6f24"
      },
      "source": [
        "print(classification_report(y_test, y_predict))"
      ],
      "id": "8pieHxaW-6os",
      "execution_count": null,
      "outputs": [
        {
          "output_type": "stream",
          "name": "stdout",
          "text": [
            "              precision    recall  f1-score   support\n",
            "\n",
            "           0       0.40      0.60      0.48        20\n",
            "           1       0.35      0.30      0.32        20\n",
            "           2       0.21      0.15      0.18        20\n",
            "           3       0.22      0.20      0.21        20\n",
            "           4       0.24      0.25      0.24        20\n",
            "\n",
            "    accuracy                           0.30       100\n",
            "   macro avg       0.29      0.30      0.29       100\n",
            "weighted avg       0.29      0.30      0.29       100\n",
            "\n"
          ]
        }
      ]
    },
    {
      "cell_type": "code",
      "metadata": {
        "id": "LR5tAOCh-7Io",
        "colab": {
          "base_uri": "https://localhost:8080/",
          "height": 295
        },
        "outputId": "d6bf1f59-23bf-421d-bc2d-67eac343b66a"
      },
      "source": [
        "k = ''\n",
        "if 'accuracy' in history.history :\n",
        "    k = 'accuracy'    \n",
        "\n",
        "if 'acc' in history.history :\n",
        "    k = 'acc'\n",
        "    \n",
        "if k != '' :    \n",
        "    plt.plot(history.history[k])\n",
        "    plt.plot(history.history['val_'+k])\n",
        "    plt.title('Model Accuracy')\n",
        "    plt.ylabel('Accuracy')\n",
        "    plt.xlabel('Epoch')\n",
        "    plt.legend(['train', 'test'], loc='upper left')\n",
        "    plt.show()"
      ],
      "id": "LR5tAOCh-7Io",
      "execution_count": null,
      "outputs": [
        {
          "output_type": "display_data",
          "data": {
            "image/png": "[encoded data removed]",
            "text/plain": [
              "<Figure size 432x288 with 1 Axes>"
            ]
          },
          "metadata": {
            "needs_background": "light"
          }
        }
      ]
    },
    {
      "cell_type": "code",
      "metadata": {
        "id": "DKXk-7bq_GVP",
        "colab": {
          "base_uri": "https://localhost:8080/",
          "height": 295
        },
        "outputId": "0c62fb57-fb03-4df4-8e5c-c01f9c1d375d"
      },
      "source": [
        "plt.plot(history.history['loss'])\n",
        "plt.plot(history.history['val_loss'])\n",
        "plt.title('Model loss')\n",
        "plt.ylabel('Loss')\n",
        "plt.xlabel('Epoch')\n",
        "plt.legend(['train', 'test'], loc='upper left')\n",
        "plt.show()\n",
        "\n"
      ],
      "id": "DKXk-7bq_GVP",
      "execution_count": null,
      "outputs": [
        {
          "output_type": "display_data",
          "data": {
            "image/png": "[encoded data removed]",
            "text/plain": [
              "<Figure size 432x288 with 1 Axes>"
            ]
          },
          "metadata": {
            "needs_background": "light"
          }
        }
      ]
    },
    {
      "cell_type": "code",
      "metadata": {
        "id": "j2grNHe4_Hul"
      },
      "source": [
        ""
      ],
      "id": "j2grNHe4_Hul",
      "execution_count": null,
      "outputs": []
    },
    {
      "cell_type": "markdown",
      "metadata": {
        "id": "O8zgMLKfBGGF"
      },
      "source": [
        "## Dropout"
      ],
      "id": "O8zgMLKfBGGF"
    },
    {
      "cell_type": "code",
      "metadata": {
        "colab": {
          "base_uri": "https://localhost:8080/"
        },
        "id": "7MA52xu9a23h",
        "outputId": "41f280c8-db6c-4604-f9fe-ec7ba94a1bc4"
      },
      "source": [
        "vgg = VGG16(weights=\"imagenet\", include_top=False, input_shape=X_train[0].shape)\n",
        "vgg.trainable = False ## Not trainable weights\n",
        "vgg_edited = Model(inputs=vgg.input, outputs=vgg.get_layer(\"block2_pool\").output)\n",
        "for layer in vgg_edited.layers:\n",
        "    layer.trainable = False\n",
        "flat1 = Flatten()(vgg_edited.layers[-1].output)\n",
        "t=Dropout(0.5)(flat1)\n",
        "class1 = Dense(256, activation='relu')(t)\n",
        "tt=Dropout(0.5)(class1)\n",
        "output = Dense(5, activation='softmax')(tt)\n",
        "\n",
        "model_d = Model(inputs=vgg_edited.inputs, outputs=output)\n",
        "model_d.summary()"
      ],
      "id": "7MA52xu9a23h",
      "execution_count": null,
      "outputs": [
        {
          "output_type": "stream",
          "name": "stdout",
          "text": [
            "Model: \"model_13\"\n",
            "_________________________________________________________________\n",
            " Layer (type)                Output Shape              Param #   \n",
            "=================================================================\n",
            " input_6 (InputLayer)        [(None, 32, 32, 3)]       0         \n",
            "                                                                 \n",
            " block1_conv1 (Conv2D)       (None, 32, 32, 64)        1792      \n",
            "                                                                 \n",
            " block1_conv2 (Conv2D)       (None, 32, 32, 64)        36928     \n",
            "                                                                 \n",
            " block1_pool (MaxPooling2D)  (None, 16, 16, 64)        0         \n",
            "                                                                 \n",
            " block2_conv1 (Conv2D)       (None, 16, 16, 128)       73856     \n",
            "                                                                 \n",
            " block2_conv2 (Conv2D)       (None, 16, 16, 128)       147584    \n",
            "                                                                 \n",
            " block2_pool (MaxPooling2D)  (None, 8, 8, 128)         0         \n",
            "                                                                 \n",
            " flatten_7 (Flatten)         (None, 8192)              0         \n",
            "                                                                 \n",
            " dropout (Dropout)           (None, 8192)              0         \n",
            "                                                                 \n",
            " dense_12 (Dense)            (None, 256)               2097408   \n",
            "                                                                 \n",
            " dropout_1 (Dropout)         (None, 256)               0         \n",
            "                                                                 \n",
            " dense_13 (Dense)            (None, 5)                 1285      \n",
            "                                                                 \n",
            "=================================================================\n",
            "Total params: 2,358,853\n",
            "Trainable params: 2,098,693\n",
            "Non-trainable params: 260,160\n",
            "_________________________________________________________________\n"
          ]
        }
      ]
    },
    {
      "cell_type": "code",
      "metadata": {
        "colab": {
          "base_uri": "https://localhost:8080/"
        },
        "id": "CXQdeqsJbYv9",
        "outputId": "77d8b792-fa93-4a3d-852b-e23625dbc512"
      },
      "source": [
        "y_train_k = tensorflow.keras.utils.to_categorical(y_train, num_classes=5)\n",
        "y_test_k = tensorflow.keras.utils.to_categorical(y_test, num_classes=5)\n",
        "\n",
        "sgd = tensorflow.keras.optimizers.SGD(lr=0.0008)\n",
        "model_d.compile(loss='categorical_crossentropy', \n",
        "                           optimizer=sgd, \n",
        "                           metrics=['accuracy'])\n",
        "\n",
        "\n",
        "history = model_d.fit(X_train, y_train_k, batch_size=128, epochs=50, verbose=1, \n",
        "                                 validation_data=(X_test, y_test_k))\n"
      ],
      "id": "CXQdeqsJbYv9",
      "execution_count": null,
      "outputs": [
        {
          "output_type": "stream",
          "name": "stderr",
          "text": [
            "/usr/local/lib/python3.7/dist-packages/keras/optimizer_v2/gradient_descent.py:102: UserWarning: The `lr` argument is deprecated, use `learning_rate` instead.\n",
            "  super(SGD, self).__init__(name, **kwargs)\n"
          ]
        },
        {
          "output_type": "stream",
          "name": "stdout",
          "text": [
            "Epoch 1/50\n",
            "8/8 [==============================] - 1s 54ms/step - loss: 20.1300 - accuracy: 0.1940 - val_loss: 7.1578 - val_accuracy: 0.2100\n",
            "Epoch 2/50\n",
            "8/8 [==============================] - 0s 25ms/step - loss: 8.8214 - accuracy: 0.2007 - val_loss: 2.3741 - val_accuracy: 0.2100\n",
            "Epoch 3/50\n",
            "8/8 [==============================] - 0s 23ms/step - loss: 5.2143 - accuracy: 0.2271 - val_loss: 1.7475 - val_accuracy: 0.2300\n",
            "Epoch 4/50\n",
            "8/8 [==============================] - 0s 21ms/step - loss: 3.7995 - accuracy: 0.2249 - val_loss: 1.6246 - val_accuracy: 0.2000\n",
            "Epoch 5/50\n",
            "8/8 [==============================] - 0s 22ms/step - loss: 2.8151 - accuracy: 0.2393 - val_loss: 1.6086 - val_accuracy: 0.1600\n",
            "Epoch 6/50\n",
            "8/8 [==============================] - 0s 22ms/step - loss: 2.6000 - accuracy: 0.2216 - val_loss: 1.6105 - val_accuracy: 0.1600\n",
            "Epoch 7/50\n",
            "8/8 [==============================] - 0s 21ms/step - loss: 2.2619 - accuracy: 0.2359 - val_loss: 1.6047 - val_accuracy: 0.2200\n",
            "Epoch 8/50\n",
            "8/8 [==============================] - 0s 22ms/step - loss: 2.0379 - accuracy: 0.2359 - val_loss: 1.6035 - val_accuracy: 0.2300\n",
            "Epoch 9/50\n",
            "8/8 [==============================] - 0s 24ms/step - loss: 1.9943 - accuracy: 0.2128 - val_loss: 1.6070 - val_accuracy: 0.2100\n",
            "Epoch 10/50\n",
            "8/8 [==============================] - 0s 22ms/step - loss: 1.9727 - accuracy: 0.2304 - val_loss: 1.6062 - val_accuracy: 0.2100\n",
            "Epoch 11/50\n",
            "8/8 [==============================] - 0s 23ms/step - loss: 1.9245 - accuracy: 0.2271 - val_loss: 1.6066 - val_accuracy: 0.2200\n",
            "Epoch 12/50\n",
            "8/8 [==============================] - 0s 23ms/step - loss: 1.8881 - accuracy: 0.2238 - val_loss: 1.6068 - val_accuracy: 0.2200\n",
            "Epoch 13/50\n",
            "8/8 [==============================] - 0s 21ms/step - loss: 1.7939 - accuracy: 0.2304 - val_loss: 1.6069 - val_accuracy: 0.2200\n",
            "Epoch 14/50\n",
            "8/8 [==============================] - 0s 22ms/step - loss: 1.8195 - accuracy: 0.2172 - val_loss: 1.6072 - val_accuracy: 0.2200\n",
            "Epoch 15/50\n",
            "8/8 [==============================] - 0s 23ms/step - loss: 1.8351 - accuracy: 0.2117 - val_loss: 1.6070 - val_accuracy: 0.2000\n",
            "Epoch 16/50\n",
            "8/8 [==============================] - 0s 21ms/step - loss: 1.7669 - accuracy: 0.2051 - val_loss: 1.6083 - val_accuracy: 0.2100\n",
            "Epoch 17/50\n",
            "8/8 [==============================] - 0s 21ms/step - loss: 1.7309 - accuracy: 0.2150 - val_loss: 1.6083 - val_accuracy: 0.2100\n",
            "Epoch 18/50\n",
            "8/8 [==============================] - 0s 23ms/step - loss: 1.7295 - accuracy: 0.2470 - val_loss: 1.6081 - val_accuracy: 0.2100\n",
            "Epoch 19/50\n",
            "8/8 [==============================] - 0s 21ms/step - loss: 1.7488 - accuracy: 0.2249 - val_loss: 1.6082 - val_accuracy: 0.2100\n",
            "Epoch 20/50\n",
            "8/8 [==============================] - 0s 21ms/step - loss: 1.7059 - accuracy: 0.2326 - val_loss: 1.6082 - val_accuracy: 0.2000\n",
            "Epoch 21/50\n",
            "8/8 [==============================] - 0s 22ms/step - loss: 1.6828 - accuracy: 0.2348 - val_loss: 1.6081 - val_accuracy: 0.2100\n",
            "Epoch 22/50\n",
            "8/8 [==============================] - 0s 21ms/step - loss: 1.7049 - accuracy: 0.2073 - val_loss: 1.6084 - val_accuracy: 0.2000\n",
            "Epoch 23/50\n",
            "8/8 [==============================] - 0s 21ms/step - loss: 1.7013 - accuracy: 0.2150 - val_loss: 1.6085 - val_accuracy: 0.2100\n",
            "Epoch 24/50\n",
            "8/8 [==============================] - 0s 22ms/step - loss: 1.6660 - accuracy: 0.2381 - val_loss: 1.6087 - val_accuracy: 0.2100\n",
            "Epoch 25/50\n",
            "8/8 [==============================] - 0s 21ms/step - loss: 1.6733 - accuracy: 0.2117 - val_loss: 1.6088 - val_accuracy: 0.2100\n",
            "Epoch 26/50\n",
            "8/8 [==============================] - 0s 22ms/step - loss: 1.6760 - accuracy: 0.2370 - val_loss: 1.6088 - val_accuracy: 0.2100\n",
            "Epoch 27/50\n",
            "8/8 [==============================] - 0s 22ms/step - loss: 1.6694 - accuracy: 0.2238 - val_loss: 1.6088 - val_accuracy: 0.2100\n",
            "Epoch 28/50\n",
            "8/8 [==============================] - 0s 21ms/step - loss: 1.6508 - accuracy: 0.2271 - val_loss: 1.6086 - val_accuracy: 0.2000\n",
            "Epoch 29/50\n",
            "8/8 [==============================] - 0s 22ms/step - loss: 1.6615 - accuracy: 0.2293 - val_loss: 1.6085 - val_accuracy: 0.2100\n",
            "Epoch 30/50\n",
            "8/8 [==============================] - 0s 22ms/step - loss: 1.6639 - accuracy: 0.2227 - val_loss: 1.6088 - val_accuracy: 0.1900\n",
            "Epoch 31/50\n",
            "8/8 [==============================] - 0s 21ms/step - loss: 1.6874 - accuracy: 0.2282 - val_loss: 1.6087 - val_accuracy: 0.2000\n",
            "Epoch 32/50\n",
            "8/8 [==============================] - 0s 23ms/step - loss: 1.6876 - accuracy: 0.2183 - val_loss: 1.6092 - val_accuracy: 0.2000\n",
            "Epoch 33/50\n",
            "8/8 [==============================] - 0s 22ms/step - loss: 1.6487 - accuracy: 0.2216 - val_loss: 1.6094 - val_accuracy: 0.1900\n",
            "Epoch 34/50\n",
            "8/8 [==============================] - 0s 23ms/step - loss: 1.6431 - accuracy: 0.2238 - val_loss: 1.6096 - val_accuracy: 0.1700\n",
            "Epoch 35/50\n",
            "8/8 [==============================] - 0s 23ms/step - loss: 1.6762 - accuracy: 0.1940 - val_loss: 1.6094 - val_accuracy: 0.1800\n",
            "Epoch 36/50\n",
            "8/8 [==============================] - 0s 21ms/step - loss: 1.6968 - accuracy: 0.2161 - val_loss: 1.6090 - val_accuracy: 0.2000\n",
            "Epoch 37/50\n",
            "8/8 [==============================] - 0s 22ms/step - loss: 1.6759 - accuracy: 0.2459 - val_loss: 1.6088 - val_accuracy: 0.2100\n",
            "Epoch 38/50\n",
            "8/8 [==============================] - 0s 22ms/step - loss: 1.6760 - accuracy: 0.2194 - val_loss: 1.6098 - val_accuracy: 0.1800\n",
            "Epoch 39/50\n",
            "8/8 [==============================] - 0s 21ms/step - loss: 1.6639 - accuracy: 0.2282 - val_loss: 1.6097 - val_accuracy: 0.2000\n",
            "Epoch 40/50\n",
            "8/8 [==============================] - 0s 21ms/step - loss: 1.6395 - accuracy: 0.2282 - val_loss: 1.6101 - val_accuracy: 0.2100\n",
            "Epoch 41/50\n",
            "8/8 [==============================] - 0s 20ms/step - loss: 1.6404 - accuracy: 0.2238 - val_loss: 1.6096 - val_accuracy: 0.1900\n",
            "Epoch 42/50\n",
            "8/8 [==============================] - 0s 22ms/step - loss: 1.6512 - accuracy: 0.2128 - val_loss: 1.6096 - val_accuracy: 0.2000\n",
            "Epoch 43/50\n",
            "8/8 [==============================] - 0s 20ms/step - loss: 1.6634 - accuracy: 0.2117 - val_loss: 1.6096 - val_accuracy: 0.1900\n",
            "Epoch 44/50\n",
            "8/8 [==============================] - 0s 20ms/step - loss: 1.6159 - accuracy: 0.2260 - val_loss: 1.6094 - val_accuracy: 0.1800\n",
            "Epoch 45/50\n",
            "8/8 [==============================] - 0s 21ms/step - loss: 1.6675 - accuracy: 0.2282 - val_loss: 1.6093 - val_accuracy: 0.2000\n",
            "Epoch 46/50\n",
            "8/8 [==============================] - 0s 22ms/step - loss: 1.6272 - accuracy: 0.2150 - val_loss: 1.6092 - val_accuracy: 0.1900\n",
            "Epoch 47/50\n",
            "8/8 [==============================] - 0s 22ms/step - loss: 1.6780 - accuracy: 0.2194 - val_loss: 1.6092 - val_accuracy: 0.2000\n",
            "Epoch 48/50\n",
            "8/8 [==============================] - 0s 21ms/step - loss: 1.6227 - accuracy: 0.2282 - val_loss: 1.6092 - val_accuracy: 0.2100\n",
            "Epoch 49/50\n",
            "8/8 [==============================] - 0s 20ms/step - loss: 1.6141 - accuracy: 0.2139 - val_loss: 1.6092 - val_accuracy: 0.2100\n",
            "Epoch 50/50\n",
            "8/8 [==============================] - 0s 21ms/step - loss: 1.6411 - accuracy: 0.2161 - val_loss: 1.6092 - val_accuracy: 0.2000\n"
          ]
        }
      ]
    },
    {
      "cell_type": "code",
      "metadata": {
        "id": "RBn4qQF2bptJ"
      },
      "source": [
        "y_predict_prob = model_d.predict(X_test)\n",
        "y_predict = y_predict_prob.argmax(axis=-1)"
      ],
      "id": "RBn4qQF2bptJ",
      "execution_count": null,
      "outputs": []
    },
    {
      "cell_type": "code",
      "metadata": {
        "colab": {
          "base_uri": "https://localhost:8080/",
          "height": 476
        },
        "id": "lTsn5wazbzpX",
        "outputId": "faf51d1f-e35b-48fc-9df4-bdc7f4fed334"
      },
      "source": [
        "row_sums = conf_mx.sum(axis=1, keepdims=True)\n",
        "norm_conf_mx = conf_mx / row_sums\n",
        "np.fill_diagonal(norm_conf_mx, 0)\n",
        "# plt.matshow(norm_conf_mx, cmap=plt.cm.gray)\n",
        "plot_confusion_matrix(norm_conf_mx)\n",
        "plt.show()"
      ],
      "id": "lTsn5wazbzpX",
      "execution_count": null,
      "outputs": [
        {
          "output_type": "display_data",
          "data": {
            "image/png": "[encoded data removed]",
            "text/plain": [
              "<Figure size 576x576 with 2 Axes>"
            ]
          },
          "metadata": {
            "needs_background": "light"
          }
        }
      ]
    },
    {
      "cell_type": "code",
      "metadata": {
        "colab": {
          "base_uri": "https://localhost:8080/"
        },
        "id": "YgJAXmo5cwgj",
        "outputId": "72241e6f-62ef-4f0c-a87b-9e0245d370e1"
      },
      "source": [
        "y_predict_prob_train = model_d.predict(X_train)\n",
        "y_predict_train = y_predict_prob_train.argmax(axis=-1)\n",
        "print(classification_report(y_train, y_predict_train))"
      ],
      "id": "YgJAXmo5cwgj",
      "execution_count": null,
      "outputs": [
        {
          "output_type": "stream",
          "name": "stdout",
          "text": [
            "              precision    recall  f1-score   support\n",
            "\n",
            "           0       0.21      0.91      0.35       180\n",
            "           1       0.30      0.23      0.26       180\n",
            "           2       0.00      0.00      0.00       187\n",
            "           3       1.00      0.01      0.01       180\n",
            "           4       0.25      0.01      0.01       180\n",
            "\n",
            "    accuracy                           0.23       907\n",
            "   macro avg       0.35      0.23      0.13       907\n",
            "weighted avg       0.35      0.23      0.12       907\n",
            "\n"
          ]
        },
        {
          "output_type": "stream",
          "name": "stderr",
          "text": [
            "/usr/local/lib/python3.7/dist-packages/sklearn/metrics/_classification.py:1308: UndefinedMetricWarning: Precision and F-score are ill-defined and being set to 0.0 in labels with no predicted samples. Use `zero_division` parameter to control this behavior.\n",
            "  _warn_prf(average, modifier, msg_start, len(result))\n",
            "/usr/local/lib/python3.7/dist-packages/sklearn/metrics/_classification.py:1308: UndefinedMetricWarning: Precision and F-score are ill-defined and being set to 0.0 in labels with no predicted samples. Use `zero_division` parameter to control this behavior.\n",
            "  _warn_prf(average, modifier, msg_start, len(result))\n",
            "/usr/local/lib/python3.7/dist-packages/sklearn/metrics/_classification.py:1308: UndefinedMetricWarning: Precision and F-score are ill-defined and being set to 0.0 in labels with no predicted samples. Use `zero_division` parameter to control this behavior.\n",
            "  _warn_prf(average, modifier, msg_start, len(result))\n"
          ]
        }
      ]
    },
    {
      "cell_type": "code",
      "metadata": {
        "colab": {
          "base_uri": "https://localhost:8080/"
        },
        "id": "KSJRWzDSb5Rb",
        "outputId": "81d06967-f633-4002-af89-7dfb5b466433"
      },
      "source": [
        "print(classification_report(y_test, y_predict))"
      ],
      "id": "KSJRWzDSb5Rb",
      "execution_count": null,
      "outputs": [
        {
          "output_type": "stream",
          "name": "stdout",
          "text": [
            "              precision    recall  f1-score   support\n",
            "\n",
            "           0       0.20      0.85      0.32        20\n",
            "           1       0.23      0.15      0.18        20\n",
            "           2       0.00      0.00      0.00        20\n",
            "           3       0.00      0.00      0.00        20\n",
            "           4       0.00      0.00      0.00        20\n",
            "\n",
            "    accuracy                           0.20       100\n",
            "   macro avg       0.09      0.20      0.10       100\n",
            "weighted avg       0.09      0.20      0.10       100\n",
            "\n"
          ]
        },
        {
          "output_type": "stream",
          "name": "stderr",
          "text": [
            "/usr/local/lib/python3.7/dist-packages/sklearn/metrics/_classification.py:1308: UndefinedMetricWarning: Precision and F-score are ill-defined and being set to 0.0 in labels with no predicted samples. Use `zero_division` parameter to control this behavior.\n",
            "  _warn_prf(average, modifier, msg_start, len(result))\n",
            "/usr/local/lib/python3.7/dist-packages/sklearn/metrics/_classification.py:1308: UndefinedMetricWarning: Precision and F-score are ill-defined and being set to 0.0 in labels with no predicted samples. Use `zero_division` parameter to control this behavior.\n",
            "  _warn_prf(average, modifier, msg_start, len(result))\n",
            "/usr/local/lib/python3.7/dist-packages/sklearn/metrics/_classification.py:1308: UndefinedMetricWarning: Precision and F-score are ill-defined and being set to 0.0 in labels with no predicted samples. Use `zero_division` parameter to control this behavior.\n",
            "  _warn_prf(average, modifier, msg_start, len(result))\n"
          ]
        }
      ]
    },
    {
      "cell_type": "code",
      "metadata": {
        "colab": {
          "base_uri": "https://localhost:8080/",
          "height": 295
        },
        "id": "a6xES0qkcAY2",
        "outputId": "fffc4dd2-85fb-44cc-be02-934a3b572536"
      },
      "source": [
        "k = ''\n",
        "if 'accuracy' in history.history :\n",
        "    k = 'accuracy'    \n",
        "\n",
        "if 'acc' in history.history :\n",
        "    k = 'acc'\n",
        "    \n",
        "if k != '' :    \n",
        "    plt.plot(history.history[k])\n",
        "    plt.plot(history.history['val_'+k])\n",
        "    plt.title('Model Accuracy')\n",
        "    plt.ylabel('Accuracy')\n",
        "    plt.xlabel('Epoch')\n",
        "    plt.legend(['train', 'test'], loc='upper left')\n",
        "    plt.show()"
      ],
      "id": "a6xES0qkcAY2",
      "execution_count": null,
      "outputs": [
        {
          "output_type": "display_data",
          "data": {
            "image/png": "[encoded data removed]",
            "text/plain": [
              "<Figure size 432x288 with 1 Axes>"
            ]
          },
          "metadata": {
            "needs_background": "light"
          }
        }
      ]
    },
    {
      "cell_type": "code",
      "metadata": {
        "colab": {
          "base_uri": "https://localhost:8080/",
          "height": 295
        },
        "id": "mQM0OVVScGwh",
        "outputId": "40837911-2966-4acd-b3ef-71a0bfa623c9"
      },
      "source": [
        "plt.plot(history.history['loss'])\n",
        "plt.plot(history.history['val_loss'])\n",
        "plt.title('Model loss')\n",
        "plt.ylabel('Loss')\n",
        "plt.xlabel('Epoch')\n",
        "plt.legend(['train', 'test'], loc='upper left')\n",
        "plt.show()\n"
      ],
      "id": "mQM0OVVScGwh",
      "execution_count": null,
      "outputs": [
        {
          "output_type": "display_data",
          "data": {
            "image/png": "[encoded data removed]",
            "text/plain": [
              "<Figure size 432x288 with 1 Axes>"
            ]
          },
          "metadata": {
            "needs_background": "light"
          }
        }
      ]
    },
    {
      "cell_type": "markdown",
      "metadata": {
        "id": "64cf4d1a"
      },
      "source": [
        "## 5. Data Augmentation [1.5]"
      ],
      "id": "64cf4d1a"
    },
    {
      "cell_type": "code",
      "metadata": {
        "id": "Up6X_n8JYZ5P"
      },
      "source": [
        ""
      ],
      "id": "Up6X_n8JYZ5P",
      "execution_count": null,
      "outputs": []
    },
    {
      "cell_type": "markdown",
      "metadata": {
        "id": "3c9919de"
      },
      "source": [
        "Perform data augmentation for training the same model as in Question 4.1. You are not expected\n",
        "to fine-tune the initial VGG layers. Again, please print your learning curves for training and\n",
        "validation and print the corresponding metrics for your model."
      ],
      "id": "3c9919de"
    },
    {
      "cell_type": "code",
      "metadata": {
        "id": "f748d372"
      },
      "source": [
        "from keras.preprocessing.image import ImageDataGenerator\n",
        "# we are using horizontal, vertical , rotation and zooming augmentation\n",
        "datagen = ImageDataGenerator(\n",
        "        rotation_range=20,\n",
        "        width_shift_range=0.002,\n",
        "        height_shift_range=0.002,\n",
        "         zoom_range=0.01,\n",
        "         horizontal_flip=True,\n",
        "        fill_mode='nearest')"
      ],
      "id": "f748d372",
      "execution_count": null,
      "outputs": []
    },
    {
      "cell_type": "code",
      "metadata": {
        "id": "410BtdSrXTWj"
      },
      "source": [
        "vgg = VGG16(weights=\"imagenet\", include_top=False, input_shape=X_train[0].shape)\n",
        "vgg.trainable = False ## Not trainable weights\n",
        "vgg_edited = Model(inputs=vgg.input, outputs=vgg.get_layer(\"block2_pool\").output)"
      ],
      "id": "410BtdSrXTWj",
      "execution_count": null,
      "outputs": []
    },
    {
      "cell_type": "code",
      "metadata": {
        "id": "meGhs1-VXigh"
      },
      "source": [
        "for layer in vgg_edited.layers:\n",
        "    layer.trainable = False\n",
        "\n",
        "# We will have to use the functional API    \n",
        "\n",
        "# last layers output\n",
        "x = vgg_edited.layers[-1].output\n",
        "# Flatten as before\n",
        "x = Flatten()(x)\n",
        "x = Dense(256, activation='relu')(x)\n",
        "x = Dense(5, activation='softmax')(x)\n",
        "\n",
        "from tensorflow.keras.models import Model\n",
        "model_aug = Model(inputs=vgg_edited.input, outputs=x)"
      ],
      "id": "meGhs1-VXigh",
      "execution_count": null,
      "outputs": []
    },
    {
      "cell_type": "code",
      "metadata": {
        "id": "w9g6VhMRXrqM"
      },
      "source": [
        "y_train_k = tensorflow.keras.utils.to_categorical(y_train, num_classes=5)\n",
        "y_test_k = tensorflow.keras.utils.to_categorical(y_test, num_classes=5)\n"
      ],
      "id": "w9g6VhMRXrqM",
      "execution_count": null,
      "outputs": []
    },
    {
      "cell_type": "code",
      "metadata": {
        "colab": {
          "base_uri": "https://localhost:8080/"
        },
        "id": "PiUomp1lXwDv",
        "outputId": "6781a99c-2c00-4740-d66e-f9f3d5084f73"
      },
      "source": [
        "sgd = tensorflow.keras.optimizers.SGD(lr=0.0008)\n",
        "model_aug.compile(loss='categorical_crossentropy', \n",
        "                           optimizer=sgd, \n",
        "                           metrics=['accuracy'])\n",
        "history = model_aug.fit(datagen.flow(X_train, y_train_k), batch_size=128, epochs=50, verbose=1, \n",
        "                                 validation_data=(X_test, y_test_k))"
      ],
      "id": "PiUomp1lXwDv",
      "execution_count": null,
      "outputs": [
        {
          "output_type": "stream",
          "name": "stderr",
          "text": [
            "/usr/local/lib/python3.7/dist-packages/keras/optimizer_v2/gradient_descent.py:102: UserWarning: The `lr` argument is deprecated, use `learning_rate` instead.\n",
            "  super(SGD, self).__init__(name, **kwargs)\n"
          ]
        },
        {
          "output_type": "stream",
          "name": "stdout",
          "text": [
            "Epoch 1/50\n",
            "29/29 [==============================] - 2s 38ms/step - loss: 10.0929 - accuracy: 0.2304 - val_loss: 1.6410 - val_accuracy: 0.2400\n",
            "Epoch 2/50\n",
            "29/29 [==============================] - 1s 29ms/step - loss: 1.6138 - accuracy: 0.2922 - val_loss: 1.5873 - val_accuracy: 0.2700\n",
            "Epoch 3/50\n",
            "29/29 [==============================] - 1s 29ms/step - loss: 1.5587 - accuracy: 0.3076 - val_loss: 1.5954 - val_accuracy: 0.3100\n",
            "Epoch 4/50\n",
            "29/29 [==============================] - 1s 30ms/step - loss: 1.4970 - accuracy: 0.3374 - val_loss: 1.6252 - val_accuracy: 0.2300\n",
            "Epoch 5/50\n",
            "29/29 [==============================] - 1s 31ms/step - loss: 1.4905 - accuracy: 0.3484 - val_loss: 1.5542 - val_accuracy: 0.3200\n",
            "Epoch 6/50\n",
            "29/29 [==============================] - 1s 29ms/step - loss: 1.4189 - accuracy: 0.3947 - val_loss: 1.5887 - val_accuracy: 0.3400\n",
            "Epoch 7/50\n",
            "29/29 [==============================] - 1s 28ms/step - loss: 1.4104 - accuracy: 0.4057 - val_loss: 1.5446 - val_accuracy: 0.2800\n",
            "Epoch 8/50\n",
            "29/29 [==============================] - 1s 28ms/step - loss: 1.3361 - accuracy: 0.4487 - val_loss: 1.5158 - val_accuracy: 0.3400\n",
            "Epoch 9/50\n",
            "29/29 [==============================] - 1s 29ms/step - loss: 1.3728 - accuracy: 0.4267 - val_loss: 1.4813 - val_accuracy: 0.3000\n",
            "Epoch 10/50\n",
            "29/29 [==============================] - 1s 29ms/step - loss: 1.3108 - accuracy: 0.4498 - val_loss: 1.4340 - val_accuracy: 0.3700\n",
            "Epoch 11/50\n",
            "29/29 [==============================] - 1s 30ms/step - loss: 1.2945 - accuracy: 0.4399 - val_loss: 1.3923 - val_accuracy: 0.3700\n",
            "Epoch 12/50\n",
            "29/29 [==============================] - 1s 28ms/step - loss: 1.2481 - accuracy: 0.4620 - val_loss: 1.5120 - val_accuracy: 0.3100\n",
            "Epoch 13/50\n",
            "29/29 [==============================] - 1s 30ms/step - loss: 1.2186 - accuracy: 0.4851 - val_loss: 1.4050 - val_accuracy: 0.3600\n",
            "Epoch 14/50\n",
            "29/29 [==============================] - 1s 29ms/step - loss: 1.2022 - accuracy: 0.4741 - val_loss: 1.5204 - val_accuracy: 0.3500\n",
            "Epoch 15/50\n",
            "29/29 [==============================] - 1s 28ms/step - loss: 1.1652 - accuracy: 0.4983 - val_loss: 1.3948 - val_accuracy: 0.3700\n",
            "Epoch 16/50\n",
            "29/29 [==============================] - 1s 29ms/step - loss: 1.1581 - accuracy: 0.5017 - val_loss: 1.3612 - val_accuracy: 0.3700\n",
            "Epoch 17/50\n",
            "29/29 [==============================] - 1s 29ms/step - loss: 1.1283 - accuracy: 0.5116 - val_loss: 1.4132 - val_accuracy: 0.3700\n",
            "Epoch 18/50\n",
            "29/29 [==============================] - 1s 29ms/step - loss: 1.1201 - accuracy: 0.5391 - val_loss: 1.4128 - val_accuracy: 0.4000\n",
            "Epoch 19/50\n",
            "29/29 [==============================] - 1s 30ms/step - loss: 1.1173 - accuracy: 0.5270 - val_loss: 1.4059 - val_accuracy: 0.4300\n",
            "Epoch 20/50\n",
            "29/29 [==============================] - 1s 29ms/step - loss: 1.0825 - accuracy: 0.5524 - val_loss: 1.4190 - val_accuracy: 0.3800\n",
            "Epoch 21/50\n",
            "29/29 [==============================] - 1s 29ms/step - loss: 1.0697 - accuracy: 0.5491 - val_loss: 1.3882 - val_accuracy: 0.3900\n",
            "Epoch 22/50\n",
            "29/29 [==============================] - 1s 29ms/step - loss: 1.0234 - accuracy: 0.5722 - val_loss: 1.3457 - val_accuracy: 0.4300\n",
            "Epoch 23/50\n",
            "29/29 [==============================] - 1s 30ms/step - loss: 1.0573 - accuracy: 0.5612 - val_loss: 1.4125 - val_accuracy: 0.3600\n",
            "Epoch 24/50\n",
            "29/29 [==============================] - 1s 29ms/step - loss: 1.0472 - accuracy: 0.5722 - val_loss: 1.3998 - val_accuracy: 0.3800\n",
            "Epoch 25/50\n",
            "29/29 [==============================] - 1s 29ms/step - loss: 1.0014 - accuracy: 0.5987 - val_loss: 1.3023 - val_accuracy: 0.4300\n",
            "Epoch 26/50\n",
            "29/29 [==============================] - 1s 29ms/step - loss: 0.9759 - accuracy: 0.6185 - val_loss: 1.4076 - val_accuracy: 0.3800\n",
            "Epoch 27/50\n",
            "29/29 [==============================] - 1s 29ms/step - loss: 0.9156 - accuracy: 0.6251 - val_loss: 1.3353 - val_accuracy: 0.3800\n",
            "Epoch 28/50\n",
            "29/29 [==============================] - 1s 30ms/step - loss: 0.9466 - accuracy: 0.6064 - val_loss: 1.3300 - val_accuracy: 0.4400\n",
            "Epoch 29/50\n",
            "29/29 [==============================] - 1s 30ms/step - loss: 0.9376 - accuracy: 0.6075 - val_loss: 1.6286 - val_accuracy: 0.3600\n",
            "Epoch 30/50\n",
            "29/29 [==============================] - 1s 30ms/step - loss: 0.9276 - accuracy: 0.6196 - val_loss: 1.7385 - val_accuracy: 0.3200\n",
            "Epoch 31/50\n",
            "29/29 [==============================] - 1s 29ms/step - loss: 0.9286 - accuracy: 0.6108 - val_loss: 1.4183 - val_accuracy: 0.3600\n",
            "Epoch 32/50\n",
            "29/29 [==============================] - 1s 28ms/step - loss: 0.9037 - accuracy: 0.6207 - val_loss: 1.4444 - val_accuracy: 0.4000\n",
            "Epoch 33/50\n",
            "29/29 [==============================] - 1s 30ms/step - loss: 0.8844 - accuracy: 0.6472 - val_loss: 1.3450 - val_accuracy: 0.4700\n",
            "Epoch 34/50\n",
            "29/29 [==============================] - 1s 30ms/step - loss: 0.8758 - accuracy: 0.6494 - val_loss: 1.3637 - val_accuracy: 0.4700\n",
            "Epoch 35/50\n",
            "29/29 [==============================] - 1s 29ms/step - loss: 0.8520 - accuracy: 0.6472 - val_loss: 1.5337 - val_accuracy: 0.4200\n",
            "Epoch 36/50\n",
            "29/29 [==============================] - 1s 30ms/step - loss: 0.8694 - accuracy: 0.6549 - val_loss: 1.5099 - val_accuracy: 0.3900\n",
            "Epoch 37/50\n",
            "29/29 [==============================] - 1s 29ms/step - loss: 0.8394 - accuracy: 0.6560 - val_loss: 1.3637 - val_accuracy: 0.4900\n",
            "Epoch 38/50\n",
            "29/29 [==============================] - 1s 30ms/step - loss: 0.8328 - accuracy: 0.6714 - val_loss: 1.5568 - val_accuracy: 0.3600\n",
            "Epoch 39/50\n",
            "29/29 [==============================] - 1s 32ms/step - loss: 0.8293 - accuracy: 0.6582 - val_loss: 1.5602 - val_accuracy: 0.4000\n",
            "Epoch 40/50\n",
            "29/29 [==============================] - 1s 31ms/step - loss: 0.7994 - accuracy: 0.6902 - val_loss: 1.4410 - val_accuracy: 0.4100\n",
            "Epoch 41/50\n",
            "29/29 [==============================] - 1s 30ms/step - loss: 0.8058 - accuracy: 0.6626 - val_loss: 1.5867 - val_accuracy: 0.3700\n",
            "Epoch 42/50\n",
            "29/29 [==============================] - 1s 30ms/step - loss: 0.7888 - accuracy: 0.6902 - val_loss: 1.4343 - val_accuracy: 0.4600\n",
            "Epoch 43/50\n",
            "29/29 [==============================] - 1s 29ms/step - loss: 0.7995 - accuracy: 0.6858 - val_loss: 1.5042 - val_accuracy: 0.4300\n",
            "Epoch 44/50\n",
            "29/29 [==============================] - 1s 30ms/step - loss: 0.7309 - accuracy: 0.7189 - val_loss: 1.4253 - val_accuracy: 0.4400\n",
            "Epoch 45/50\n",
            "29/29 [==============================] - 1s 28ms/step - loss: 0.7493 - accuracy: 0.6946 - val_loss: 1.4628 - val_accuracy: 0.4300\n",
            "Epoch 46/50\n",
            "29/29 [==============================] - 1s 30ms/step - loss: 0.7167 - accuracy: 0.7144 - val_loss: 1.6039 - val_accuracy: 0.4400\n",
            "Epoch 47/50\n",
            "29/29 [==============================] - 1s 30ms/step - loss: 0.7607 - accuracy: 0.6957 - val_loss: 1.4638 - val_accuracy: 0.4200\n",
            "Epoch 48/50\n",
            "29/29 [==============================] - 1s 30ms/step - loss: 0.7173 - accuracy: 0.7233 - val_loss: 1.4863 - val_accuracy: 0.4200\n",
            "Epoch 49/50\n",
            "29/29 [==============================] - 1s 29ms/step - loss: 0.7032 - accuracy: 0.7155 - val_loss: 1.4728 - val_accuracy: 0.4300\n",
            "Epoch 50/50\n",
            "29/29 [==============================] - 1s 29ms/step - loss: 0.7182 - accuracy: 0.7067 - val_loss: 1.4870 - val_accuracy: 0.4700\n"
          ]
        }
      ]
    },
    {
      "cell_type": "code",
      "metadata": {
        "colab": {
          "base_uri": "https://localhost:8080/"
        },
        "id": "IlG9ItQnYQeP",
        "outputId": "4c0cce03-b499-472c-967b-37d5b81bce00"
      },
      "source": [
        "y_predict_prob = model_aug.predict(X_test)\n",
        "y_predict = y_predict_prob.argmax(axis=-1)\n",
        "conf_mx = confusion_matrix(y_test, y_predict)\n",
        "print('Confusion matrix: \\n{0}'.format(conf_mx))"
      ],
      "id": "IlG9ItQnYQeP",
      "execution_count": null,
      "outputs": [
        {
          "output_type": "stream",
          "name": "stdout",
          "text": [
            "Confusion matrix: \n",
            "[[15  0  2  1  2]\n",
            " [ 7  7  2  4  0]\n",
            " [ 2  1  8  4  5]\n",
            " [ 2  0  3  3 12]\n",
            " [ 1  2  0  3 14]]\n"
          ]
        }
      ]
    },
    {
      "cell_type": "code",
      "metadata": {
        "colab": {
          "base_uri": "https://localhost:8080/",
          "height": 476
        },
        "id": "50J43hzyYcQV",
        "outputId": "fe14c30d-56b5-43fa-b9c1-9a98db643345"
      },
      "source": [
        "row_sums = conf_mx.sum(axis=1, keepdims=True)\n",
        "norm_conf_mx = conf_mx / row_sums\n",
        "np.fill_diagonal(norm_conf_mx, 0)\n",
        "# plt.matshow(norm_conf_mx, cmap=plt.cm.gray)\n",
        "plot_confusion_matrix(norm_conf_mx)\n",
        "plt.show()"
      ],
      "id": "50J43hzyYcQV",
      "execution_count": null,
      "outputs": [
        {
          "output_type": "display_data",
          "data": {
            "image/png": "[encoded data removed]",
            "text/plain": [
              "<Figure size 576x576 with 2 Axes>"
            ]
          },
          "metadata": {
            "needs_background": "light"
          }
        }
      ]
    },
    {
      "cell_type": "code",
      "metadata": {
        "colab": {
          "base_uri": "https://localhost:8080/"
        },
        "id": "n6dNumTfYl31",
        "outputId": "ebd52392-0bcc-4ab7-dd29-03a30b313aa1"
      },
      "source": [
        "print(classification_report(y_test, y_predict))"
      ],
      "id": "n6dNumTfYl31",
      "execution_count": null,
      "outputs": [
        {
          "output_type": "stream",
          "name": "stdout",
          "text": [
            "              precision    recall  f1-score   support\n",
            "\n",
            "           0       0.56      0.75      0.64        20\n",
            "           1       0.70      0.35      0.47        20\n",
            "           2       0.53      0.40      0.46        20\n",
            "           3       0.20      0.15      0.17        20\n",
            "           4       0.42      0.70      0.53        20\n",
            "\n",
            "    accuracy                           0.47       100\n",
            "   macro avg       0.48      0.47      0.45       100\n",
            "weighted avg       0.48      0.47      0.45       100\n",
            "\n"
          ]
        }
      ]
    },
    {
      "cell_type": "code",
      "metadata": {
        "colab": {
          "base_uri": "https://localhost:8080/",
          "height": 295
        },
        "id": "H2b9Pgt0Yr7o",
        "outputId": "b996974f-30db-4796-d8e4-04186be5eb75"
      },
      "source": [
        "k = ''\n",
        "if 'accuracy' in history.history :\n",
        "    k = 'accuracy'    \n",
        "\n",
        "if 'acc' in history.history :\n",
        "    k = 'acc'\n",
        "    \n",
        "if k != '' :    \n",
        "    plt.plot(history.history[k])\n",
        "    plt.plot(history.history['val_'+k])\n",
        "    plt.title('Model Accuracy')\n",
        "    plt.ylabel('Accuracy')\n",
        "    plt.xlabel('Epoch')\n",
        "    plt.legend(['train', 'test'], loc='upper left')\n",
        "    plt.show()\n"
      ],
      "id": "H2b9Pgt0Yr7o",
      "execution_count": null,
      "outputs": [
        {
          "output_type": "display_data",
          "data": {
            "image/png": "[encoded data removed]",
            "text/plain": [
              "<Figure size 432x288 with 1 Axes>"
            ]
          },
          "metadata": {
            "needs_background": "light"
          }
        }
      ]
    },
    {
      "cell_type": "code",
      "metadata": {
        "colab": {
          "base_uri": "https://localhost:8080/",
          "height": 295
        },
        "id": "twUxGVviY3SZ",
        "outputId": "a2541782-d6f2-4d71-a423-f13a596173d8"
      },
      "source": [
        "plt.plot(history.history['loss'])\n",
        "plt.plot(history.history['val_loss'])\n",
        "plt.title('Model loss')\n",
        "plt.ylabel('Loss')\n",
        "plt.xlabel('Epoch')\n",
        "plt.legend(['train', 'test'], loc='upper left')\n",
        "plt.show()\n",
        "\n"
      ],
      "id": "twUxGVviY3SZ",
      "execution_count": null,
      "outputs": [
        {
          "output_type": "display_data",
          "data": {
            "image/png": "[encoded data removed]",
            "text/plain": [
              "<Figure size 432x288 with 1 Axes>"
            ]
          },
          "metadata": {
            "needs_background": "light"
          }
        }
      ]
    },
    {
      "cell_type": "markdown",
      "metadata": {
        "id": "c16e086d"
      },
      "source": [
        "## 5.1. Discussion [1]"
      ],
      "id": "c16e086d"
    },
    {
      "cell_type": "markdown",
      "metadata": {
        "id": "b893a1c9"
      },
      "source": [
        "Discuss based on your learning curves and final metrics in Question 4.1 and in Question 5, how\n",
        "large a improvement can be observed from regularization and data augmentation."
      ],
      "id": "b893a1c9"
    },
    {
      "cell_type": "markdown",
      "metadata": {
        "id": "ab62dfc6"
      },
      "source": [
        "> classification model with batch normalization\n",
        ">> The model keeps overfitting, however the model is worest than the baseline, the training accuracy was up to 90% ,but the test accuracy is only 30%!.\n",
        "The f1 score has decreased for all classes, the highest fq score id 48% for the first class and the lowest f1 score is 18% for the tri-plants as before."
      ],
      "id": "ab62dfc6"
    },
    {
      "cell_type": "markdown",
      "metadata": {
        "id": "IFdd0k_0SEiC"
      },
      "source": [
        ">classification model with dropout\n",
        ">> The model very under fitted, the training accuracy is only 23% while the testing accuracy is 20%. There is no f1 score all are zeros except for the first class and the second class.\n",
        "The first class has a f1 score of 38% while the second class has a f1 score of 18%<br>"
      ],
      "id": "IFdd0k_0SEiC"
    },
    {
      "cell_type": "markdown",
      "metadata": {
        "id": "3b1e8c11"
      },
      "source": [
        ">classification model with data augmentation\n",
        ">> The model overfitted, the training accuracy is about 70% while the test accuracy is 47% on test data. The highest f1 score is for the first class which records a score of 64%. the lowest f1 score is 17% for the third class."
      ],
      "id": "3b1e8c11"
    },
    {
      "cell_type": "markdown",
      "metadata": {
        "id": "7a977b9c"
      },
      "source": [
        "# References"
      ],
      "id": "7a977b9c"
    },
    {
      "cell_type": "markdown",
      "metadata": {
        "id": "9e6b401d"
      },
      "source": [
        "[1] N. Teimouri, M. Dyrmann, P. R. Nielsen, S. K. Mathiassen, G. J. Somerville, and R. N.\n",
        "Jørgensen, “Weed growth stage estimator using deep convolutional neural networks,” Sensors,\n",
        "vol. 18, no. 5, 2018.<br>\n",
        "[2] Lab code. <br>\n",
        "[3] Keras API. <br>\n",
        "[4] https://towardsdatascience.com/transfer-learning-with-vgg16-and-keras-50ea161580b4 <br>\n",
        "[5] https://www.learndatasci.com/tutorials/hands-on-transfer-learning-keras/<br>\n",
        "[6] https://stackoverflow.com/questions/56204731/the-method-np-utils-to-categorical-give-me-an-error <br>\n",
        "[7] https://towardsdatascience.com/learning-curve-to-identify-overfitting-underfitting-problems-133177f38df5 <br>\n",
        "[8] https://towardsdatascience.com/deep-neural-networks-for-regression-problems-81321897ca33<br>\n",
        "[9] https://sthalles.github.io/keras-regularizer/<br>\n",
        "[10] https://towardsdatascience.com/how-to-use-batch-normalization-with-tensorflow-and-tf-keras-to-train-deep-neural-networks-faster-60ba4d054b73<br>\n",
        "[11] https://www.machinecurve.com/index.php/2019/12/18/how-to-use-dropout-with-keras/"
      ],
      "id": "9e6b401d"
    },
    {
      "cell_type": "code",
      "metadata": {
        "id": "5144610d"
      },
      "source": [
        ""
      ],
      "id": "5144610d",
      "execution_count": null,
      "outputs": []
    }
  ]
}
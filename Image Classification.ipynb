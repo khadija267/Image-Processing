{
 "cells": [
  {
   "cell_type": "markdown",
   "metadata": {},
   "source": [
    "# Data Prepartion\n",
    "- We have read all images in the chosen folders.\n",
    "- We have converted all images to gray scale and resized them to 32 by 32.\n",
    "- We have created 2 empty lists one to be filled with the flatten image array and the other with image label.\n",
    "- We have converted the lists into numpy arrays.\n",
    "- We have converted the arrays to a pandas data frame for further slicing by label.\n"
   ]
  },
  {
   "cell_type": "code",
   "execution_count": 1,
   "metadata": {
    "id": "OHKCcDJ6qohg"
   },
   "outputs": [],
   "source": [
    "import os\n",
    "import skimage.io as skio\n",
    "from skimage.transform import resize\n",
    "from skimage import color\n",
    "from skimage.color import rgb2gray\n",
    "import numpy as np\n",
    "import pandas as pd\n",
    "import matplotlib.pyplot as plt\n",
    "import warnings\n",
    "warnings.filterwarnings(\"ignore\")\n",
    "\n",
    "f = r'/home/khadija/Downloads/A1/EnglishImg/English/Img/GoodImg/Bmb'\n",
    "folders=['Sample051', 'Sample053', 'Sample017', 'Sample009']\n",
    "labels=['o','q','G','8']\n",
    "X=[]\n",
    "y=[]\n",
    "for ind,it in enumerate(folders):\n",
    "    \n",
    "    for file in os.listdir(f+\"/\"+it):\n",
    "        f_img = f+\"/\"+it+\"/\"+file\n",
    "        \n",
    "        img = skio.imread(f_img)\n",
    "        img = color.rgb2gray(img)\n",
    "        img = resize(img,(32,32))\n",
    "        X.append(img.flatten())\n",
    "        y.append(labels[ind])\n",
    "        \n",
    "X=np.array(X)\n",
    "y=np.array(y)\n",
    "df=pd.DataFrame(X)\n",
    "df['labels']=y"
   ]
  },
  {
   "cell_type": "code",
   "execution_count": 2,
   "metadata": {},
   "outputs": [
    {
     "data": {
      "text/html": [
       "<div>\n",
       "<style scoped>\n",
       "    .dataframe tbody tr th:only-of-type {\n",
       "        vertical-align: middle;\n",
       "    }\n",
       "\n",
       "    .dataframe tbody tr th {\n",
       "        vertical-align: top;\n",
       "    }\n",
       "\n",
       "    .dataframe thead th {\n",
       "        text-align: right;\n",
       "    }\n",
       "</style>\n",
       "<table border=\"1\" class=\"dataframe\">\n",
       "  <thead>\n",
       "    <tr style=\"text-align: right;\">\n",
       "      <th></th>\n",
       "      <th>0</th>\n",
       "      <th>1</th>\n",
       "      <th>2</th>\n",
       "      <th>3</th>\n",
       "      <th>4</th>\n",
       "      <th>5</th>\n",
       "      <th>6</th>\n",
       "      <th>7</th>\n",
       "      <th>8</th>\n",
       "      <th>9</th>\n",
       "      <th>...</th>\n",
       "      <th>1015</th>\n",
       "      <th>1016</th>\n",
       "      <th>1017</th>\n",
       "      <th>1018</th>\n",
       "      <th>1019</th>\n",
       "      <th>1020</th>\n",
       "      <th>1021</th>\n",
       "      <th>1022</th>\n",
       "      <th>1023</th>\n",
       "      <th>labels</th>\n",
       "    </tr>\n",
       "  </thead>\n",
       "  <tbody>\n",
       "    <tr>\n",
       "      <th>0</th>\n",
       "      <td>0.572185</td>\n",
       "      <td>0.572185</td>\n",
       "      <td>0.572185</td>\n",
       "      <td>0.572185</td>\n",
       "      <td>0.572185</td>\n",
       "      <td>0.570213</td>\n",
       "      <td>0.570213</td>\n",
       "      <td>0.569931</td>\n",
       "      <td>0.569648</td>\n",
       "      <td>0.569648</td>\n",
       "      <td>...</td>\n",
       "      <td>0.596555</td>\n",
       "      <td>0.596273</td>\n",
       "      <td>0.589263</td>\n",
       "      <td>0.583942</td>\n",
       "      <td>0.581978</td>\n",
       "      <td>0.577208</td>\n",
       "      <td>0.571605</td>\n",
       "      <td>0.563479</td>\n",
       "      <td>0.563196</td>\n",
       "      <td>o</td>\n",
       "    </tr>\n",
       "    <tr>\n",
       "      <th>1</th>\n",
       "      <td>0.094966</td>\n",
       "      <td>0.099170</td>\n",
       "      <td>0.095531</td>\n",
       "      <td>0.085731</td>\n",
       "      <td>0.092741</td>\n",
       "      <td>0.089370</td>\n",
       "      <td>0.091327</td>\n",
       "      <td>0.091312</td>\n",
       "      <td>0.094385</td>\n",
       "      <td>0.099408</td>\n",
       "      <td>...</td>\n",
       "      <td>0.106180</td>\n",
       "      <td>0.106448</td>\n",
       "      <td>0.096938</td>\n",
       "      <td>0.088262</td>\n",
       "      <td>0.086580</td>\n",
       "      <td>0.098895</td>\n",
       "      <td>0.097474</td>\n",
       "      <td>0.091848</td>\n",
       "      <td>0.099691</td>\n",
       "      <td>o</td>\n",
       "    </tr>\n",
       "    <tr>\n",
       "      <th>2</th>\n",
       "      <td>0.211772</td>\n",
       "      <td>0.210388</td>\n",
       "      <td>0.201138</td>\n",
       "      <td>0.195527</td>\n",
       "      <td>0.194411</td>\n",
       "      <td>0.200305</td>\n",
       "      <td>0.199181</td>\n",
       "      <td>0.193004</td>\n",
       "      <td>0.184022</td>\n",
       "      <td>0.188777</td>\n",
       "      <td>...</td>\n",
       "      <td>0.194671</td>\n",
       "      <td>0.198875</td>\n",
       "      <td>0.200274</td>\n",
       "      <td>0.192996</td>\n",
       "      <td>0.194113</td>\n",
       "      <td>0.202789</td>\n",
       "      <td>0.202506</td>\n",
       "      <td>0.200825</td>\n",
       "      <td>0.203630</td>\n",
       "      <td>o</td>\n",
       "    </tr>\n",
       "    <tr>\n",
       "      <th>3</th>\n",
       "      <td>0.161831</td>\n",
       "      <td>0.194580</td>\n",
       "      <td>0.268205</td>\n",
       "      <td>0.402893</td>\n",
       "      <td>0.520236</td>\n",
       "      <td>0.586322</td>\n",
       "      <td>0.606488</td>\n",
       "      <td>0.601436</td>\n",
       "      <td>0.602827</td>\n",
       "      <td>0.601696</td>\n",
       "      <td>...</td>\n",
       "      <td>0.601644</td>\n",
       "      <td>0.588213</td>\n",
       "      <td>0.602798</td>\n",
       "      <td>0.635301</td>\n",
       "      <td>0.670327</td>\n",
       "      <td>0.648495</td>\n",
       "      <td>0.559176</td>\n",
       "      <td>0.428120</td>\n",
       "      <td>0.340186</td>\n",
       "      <td>o</td>\n",
       "    </tr>\n",
       "    <tr>\n",
       "      <th>4</th>\n",
       "      <td>0.754913</td>\n",
       "      <td>0.762191</td>\n",
       "      <td>0.746787</td>\n",
       "      <td>0.715698</td>\n",
       "      <td>0.707855</td>\n",
       "      <td>0.719902</td>\n",
       "      <td>0.724940</td>\n",
       "      <td>0.721301</td>\n",
       "      <td>0.717379</td>\n",
       "      <td>0.713458</td>\n",
       "      <td>...</td>\n",
       "      <td>0.728884</td>\n",
       "      <td>0.721591</td>\n",
       "      <td>0.710943</td>\n",
       "      <td>0.713198</td>\n",
       "      <td>0.716851</td>\n",
       "      <td>0.717685</td>\n",
       "      <td>0.721324</td>\n",
       "      <td>0.714596</td>\n",
       "      <td>0.714879</td>\n",
       "      <td>o</td>\n",
       "    </tr>\n",
       "  </tbody>\n",
       "</table>\n",
       "<p>5 rows × 1025 columns</p>\n",
       "</div>"
      ],
      "text/plain": [
       "          0         1         2         3         4         5         6  \\\n",
       "0  0.572185  0.572185  0.572185  0.572185  0.572185  0.570213  0.570213   \n",
       "1  0.094966  0.099170  0.095531  0.085731  0.092741  0.089370  0.091327   \n",
       "2  0.211772  0.210388  0.201138  0.195527  0.194411  0.200305  0.199181   \n",
       "3  0.161831  0.194580  0.268205  0.402893  0.520236  0.586322  0.606488   \n",
       "4  0.754913  0.762191  0.746787  0.715698  0.707855  0.719902  0.724940   \n",
       "\n",
       "          7         8         9  ...      1015      1016      1017      1018  \\\n",
       "0  0.569931  0.569648  0.569648  ...  0.596555  0.596273  0.589263  0.583942   \n",
       "1  0.091312  0.094385  0.099408  ...  0.106180  0.106448  0.096938  0.088262   \n",
       "2  0.193004  0.184022  0.188777  ...  0.194671  0.198875  0.200274  0.192996   \n",
       "3  0.601436  0.602827  0.601696  ...  0.601644  0.588213  0.602798  0.635301   \n",
       "4  0.721301  0.717379  0.713458  ...  0.728884  0.721591  0.710943  0.713198   \n",
       "\n",
       "       1019      1020      1021      1022      1023  labels  \n",
       "0  0.581978  0.577208  0.571605  0.563479  0.563196       o  \n",
       "1  0.086580  0.098895  0.097474  0.091848  0.099691       o  \n",
       "2  0.194113  0.202789  0.202506  0.200825  0.203630       o  \n",
       "3  0.670327  0.648495  0.559176  0.428120  0.340186       o  \n",
       "4  0.716851  0.717685  0.721324  0.714596  0.714879       o  \n",
       "\n",
       "[5 rows x 1025 columns]"
      ]
     },
     "execution_count": 2,
     "metadata": {},
     "output_type": "execute_result"
    }
   ],
   "source": [
    "df.head()"
   ]
  },
  {
   "cell_type": "markdown",
   "metadata": {},
   "source": [
    "# Binary Classification"
   ]
  },
  {
   "cell_type": "markdown",
   "metadata": {},
   "source": [
    "## O & Q model\n",
    "- We have selected the rows which contains o and q labels, they are 202 images.\n",
    "- We converted the data frame back to numpy array one for images and one for label.\n",
    "- We splitted data randomly by sklearn into train, test and validation splits.\n",
    "- The train split contains 161 images which is 60 % of images. \n",
    "- The test split contains 21 images which is 20 % of images. \n",
    "- The validation split contains 20 images which is 20 % of images. "
   ]
  },
  {
   "cell_type": "code",
   "execution_count": 3,
   "metadata": {},
   "outputs": [],
   "source": [
    "OQ=df[(df['labels']== 'o' )| (df['labels']== 'q') ]"
   ]
  },
  {
   "cell_type": "code",
   "execution_count": 4,
   "metadata": {},
   "outputs": [],
   "source": [
    "X_OQ=np.array(OQ.loc[:, OQ.columns != 'labels'])\n",
    "y_OQ=np.array(OQ.loc[:, 'labels'])"
   ]
  },
  {
   "cell_type": "code",
   "execution_count": 5,
   "metadata": {},
   "outputs": [
    {
     "data": {
      "text/plain": [
       "202"
      ]
     },
     "execution_count": 5,
     "metadata": {},
     "output_type": "execute_result"
    }
   ],
   "source": [
    "len(X_OQ)"
   ]
  },
  {
   "cell_type": "code",
   "execution_count": 11,
   "metadata": {},
   "outputs": [
    {
     "name": "stdout",
     "output_type": "stream",
     "text": [
      "train length is 161 || test length is 21 || validation length is 20\n"
     ]
    }
   ],
   "source": [
    "from sklearn.linear_model import LogisticRegression\n",
    "from sklearn.model_selection import train_test_split\n",
    "\n",
    "X_train, X_rem, y_train, y_rem = train_test_split(X_OQ,y_OQ, train_size=0.8)\n",
    "X_valid, X_test, y_valid, y_test = train_test_split(X_rem,y_rem, test_size=0.5)\n",
    "print(\"train length is \"+str(len(y_train))+\" || test length is \"+str(len(y_test))+\" || validation length is \"+str(len(y_valid)))\n",
    "\n",
    "clf = LogisticRegression(random_state=0).fit(X_train, y_train)\n"
   ]
  },
  {
   "cell_type": "markdown",
   "metadata": {},
   "source": [
    "### Train Data metrics\n",
    "- The model results in high accuracy and f1 score."
   ]
  },
  {
   "cell_type": "code",
   "execution_count": 14,
   "metadata": {},
   "outputs": [
    {
     "name": "stdout",
     "output_type": "stream",
     "text": [
      "Accuracy is 0.9875776397515528\n",
      "Precision is 1.0\n",
      "Recall is 0.9555555555555556\n",
      "F1 score is 0.9772727272727273\n"
     ]
    },
    {
     "data": {
      "image/png": "[encoded data removed]",
      "text/plain": [
       "<Figure size 432x288 with 2 Axes>"
      ]
     },
     "metadata": {
      "needs_background": "light"
     },
     "output_type": "display_data"
    }
   ],
   "source": [
    "from sklearn.metrics import plot_confusion_matrix\n",
    "from sklearn.metrics import confusion_matrix,roc_curve,roc_auc_score\n",
    "plot_confusion_matrix(clf, X_train, y_train)  ;\n",
    "y_pred=clf.predict(X_train)\n",
    "\n",
    "TN, FP, FN, TP = confusion_matrix(y_train,y_pred).ravel()\n",
    "Accuracy = (TP + TN) / (TP + TN + FP + FN)\n",
    "print(\"Accuracy is \"+ str(Accuracy))\n",
    "Precision = TP / (TP + FP)\n",
    "print(\"Precision is \"+str(Precision))\n",
    "Recall= TP /( TP + FN)\n",
    "print(\"Recall is \"+str(Recall))\n",
    "F1=2*(Precision*Recall)/(Precision+Recall)\n",
    "print(\"F1 score is \"+str(F1))\n"
   ]
  },
  {
   "cell_type": "markdown",
   "metadata": {},
   "source": [
    "#### Roc Curve\n",
    "- AUC is 99%\n",
    "- An AUC of 99% means that if we take two data points from the q and o classes, there is a 99% chance that the model will correctly rank order them, hence the positive class has a greater prediction probability than the negative class.\n"
   ]
  },
  {
   "cell_type": "code",
   "execution_count": 13,
   "metadata": {},
   "outputs": [
    {
     "data": {
      "image/png": "[encoded data removed]",
      "text/plain": [
       "<Figure size 432x288 with 1 Axes>"
      ]
     },
     "metadata": {
      "needs_background": "light"
     },
     "output_type": "display_data"
    }
   ],
   "source": [
    "model_probs = clf.predict_proba(X_train)\n",
    "y_score = model_probs[:, 1]\n",
    "fpr, tpr, _ = roc_curve([0 if i == 'q' else 1 for i in y_train], y_score)\n",
    "auc = roc_auc_score(y_train, y_score)\n",
    "\n",
    "plt.plot(fpr, tpr, marker='.', label= 'ROC curve (area = %0.2f)' % auc)\n",
    "plt.xlabel('False Positive Rate');\n",
    "plt.ylabel('True Positive Rate');\n",
    "plt.legend(loc='lower right');\n"
   ]
  },
  {
   "cell_type": "markdown",
   "metadata": {},
   "source": [
    "### Test Metrics\n",
    "- The model performs badly in test data, hence we admit that the model overfits.\n",
    "- The accuracy is fair but the f1 score is very low."
   ]
  },
  {
   "cell_type": "code",
   "execution_count": 15,
   "metadata": {},
   "outputs": [
    {
     "name": "stdout",
     "output_type": "stream",
     "text": [
      "Accuracy is 0.7142857142857143\n",
      "Precision is 0.5\n",
      "Recall is 0.16666666666666666\n",
      "F1 score is 0.25\n"
     ]
    },
    {
     "data": {
      "image/png": "[encoded data removed]",
      "text/plain": [
       "<Figure size 432x288 with 2 Axes>"
      ]
     },
     "metadata": {
      "needs_background": "light"
     },
     "output_type": "display_data"
    }
   ],
   "source": [
    "from sklearn.metrics import plot_confusion_matrix\n",
    "from sklearn.metrics import confusion_matrix\n",
    "plot_confusion_matrix(clf, X_test, y_test)  ;\n",
    "y_pred=clf.predict(X_test)\n",
    "\n",
    "TN, FP, FN, TP = confusion_matrix(y_test,y_pred).ravel()\n",
    "Accuracy = (TP + TN) / (TP + TN + FP + FN)\n",
    "print(\"Accuracy is \"+ str(Accuracy))\n",
    "Precision = TP / (TP + FP)\n",
    "print(\"Precision is \"+str(Precision))\n",
    "Recall= TP /( TP + FN)\n",
    "print(\"Recall is \"+str(Recall))\n",
    "F1=2*(Precision*Recall)/(Precision+Recall)\n",
    "print(\"F1 score is \"+str(F1))\n"
   ]
  },
  {
   "cell_type": "markdown",
   "metadata": {},
   "source": [
    "#### ROC Curve\n",
    "- AUC is 40 %\n",
    "- An AUC of 40% means that if we take two data points from the q and o classes, there is a 40% chance that the model will correctly rank order them, hence the positive class has a greater prediction probability than the negative class.\n",
    "- if AUC is less than 50 %, hence the model never learns.\n"
   ]
  },
  {
   "cell_type": "code",
   "execution_count": 16,
   "metadata": {},
   "outputs": [
    {
     "data": {
      "image/png": "[encoded data removed]",
      "text/plain": [
       "<Figure size 432x288 with 1 Axes>"
      ]
     },
     "metadata": {
      "needs_background": "light"
     },
     "output_type": "display_data"
    }
   ],
   "source": [
    "model_probs = clf.predict_proba(X_test)\n",
    "y_score = model_probs[:, 1]\n",
    "fpr, tpr, _ = roc_curve([0 if i == 'q' else 1 for i in y_test], y_score)\n",
    "auc = roc_auc_score(y_test, y_score)\n",
    "\n",
    "plt.plot(fpr, tpr, marker='.', label= 'ROC curve (area = %0.2f)' % auc)\n",
    "plt.xlabel('False Positive Rate');\n",
    "plt.ylabel('True Positive Rate');\n",
    "plt.legend(loc='lower right');\n"
   ]
  },
  {
   "cell_type": "markdown",
   "metadata": {},
   "source": [
    "## G & 8 model\n",
    "- We have selected the rows which contains G and 8 labels, they are 175 images.\n",
    "- We converted the data frame back to numpy array one for images and one for label.\n",
    "- We splitted data randomly by sklearn into train, test and validation splits.\n",
    "- The train split contains 140 images which is 60 % of images. \n",
    "- The test split contains 18 images which is 20 % of images. \n",
    "- The validation split contains 17 images which is 20 % of images."
   ]
  },
  {
   "cell_type": "code",
   "execution_count": 17,
   "metadata": {},
   "outputs": [
    {
     "data": {
      "text/plain": [
       "175"
      ]
     },
     "execution_count": 17,
     "metadata": {},
     "output_type": "execute_result"
    }
   ],
   "source": [
    "G8=df[(df['labels']== 'G' )| (df['labels']== '8') ]\n",
    "X_G8=np.array(G8.loc[:, G8.columns != 'labels'])\n",
    "y_G8=np.array(G8.loc[:, 'labels'])\n",
    "len(X_G8)"
   ]
  },
  {
   "cell_type": "code",
   "execution_count": 19,
   "metadata": {},
   "outputs": [
    {
     "name": "stdout",
     "output_type": "stream",
     "text": [
      "train length is 140 || test length is 18 || validation length is 17\n"
     ]
    }
   ],
   "source": [
    "from sklearn.linear_model import LogisticRegression\n",
    "from sklearn.model_selection import train_test_split\n",
    "\n",
    "X_train, X_rem, y_train, y_rem = train_test_split(X_G8,y_G8, train_size=0.8)\n",
    "\n",
    "X_valid, X_test, y_valid, y_test = train_test_split(X_rem,y_rem, test_size=0.5)\n",
    "print(\"train length is \"+str(len(y_train))+\" || test length is \"+str(len(y_test))+\" || validation length is \"+str(len(y_valid)))\n",
    "clf = LogisticRegression(random_state=0).fit(X_train, y_train)\n",
    "\n"
   ]
  },
  {
   "cell_type": "markdown",
   "metadata": {},
   "source": [
    "### Train Data Metrics\n",
    "- Again the model results in high accuracy and f1 score."
   ]
  },
  {
   "cell_type": "code",
   "execution_count": 20,
   "metadata": {},
   "outputs": [
    {
     "name": "stdout",
     "output_type": "stream",
     "text": [
      "Accuracy is 0.9714285714285714\n",
      "Precision is 0.9666666666666667\n",
      "Recall is 1.0\n",
      "F1 score is 0.983050847457627\n"
     ]
    },
    {
     "data": {
      "image/png": "[encoded data removed]",
      "text/plain": [
       "<Figure size 432x288 with 2 Axes>"
      ]
     },
     "metadata": {
      "needs_background": "light"
     },
     "output_type": "display_data"
    }
   ],
   "source": [
    "from sklearn.metrics import plot_confusion_matrix\n",
    "from sklearn.metrics import confusion_matrix\n",
    "plot_confusion_matrix(clf, X_train, y_train)  ;\n",
    "y_pred=clf.predict(X_train)\n",
    "\n",
    "TN, FP, FN, TP = confusion_matrix(y_train,y_pred).ravel()\n",
    "Accuracy = (TP + TN) / (TP + TN + FP + FN)\n",
    "print(\"Accuracy is \"+ str(Accuracy))\n",
    "Precision = TP / (TP + FP)\n",
    "print(\"Precision is \"+str(Precision))\n",
    "Recall= TP /( TP + FN)\n",
    "print(\"Recall is \"+str(Recall))\n",
    "F1=2*(Precision*Recall)/(Precision+Recall)\n",
    "print(\"F1 score is \"+str(F1))\n"
   ]
  },
  {
   "cell_type": "markdown",
   "metadata": {},
   "source": [
    "#### ROC Curve\n",
    "- In addition to a high AUC value."
   ]
  },
  {
   "cell_type": "code",
   "execution_count": 21,
   "metadata": {},
   "outputs": [
    {
     "data": {
      "image/png": "[encoded data removed]",
      "text/plain": [
       "<Figure size 432x288 with 1 Axes>"
      ]
     },
     "metadata": {
      "needs_background": "light"
     },
     "output_type": "display_data"
    }
   ],
   "source": [
    "model_probs = clf.predict_proba(X_train)\n",
    "y_score = model_probs[:, 1]\n",
    "fpr, tpr, _ = roc_curve([0 if i == 'G' else 1 for i in y_train], y_score)\n",
    "auc = roc_auc_score(y_train, y_score)\n",
    "\n",
    "plt.plot(fpr, tpr, marker='.', label= 'ROC curve (area = %0.2f)' % auc)\n",
    "plt.xlabel('False Positive Rate');\n",
    "plt.ylabel('True Positive Rate');\n",
    "plt.legend(loc='lower right');\n"
   ]
  },
  {
   "cell_type": "markdown",
   "metadata": {},
   "source": [
    "### Test Data Metrics\n",
    "- Accuracy in test data and F1 score is fair."
   ]
  },
  {
   "cell_type": "code",
   "execution_count": 22,
   "metadata": {},
   "outputs": [
    {
     "name": "stdout",
     "output_type": "stream",
     "text": [
      "Accuracy is 0.7777777777777778\n",
      "Precision is 0.8235294117647058\n",
      "Recall is 0.9333333333333333\n",
      "F1 score is 0.8749999999999999\n"
     ]
    },
    {
     "data": {
      "image/png": "[encoded data removed]",
      "text/plain": [
       "<Figure size 432x288 with 2 Axes>"
      ]
     },
     "metadata": {
      "needs_background": "light"
     },
     "output_type": "display_data"
    }
   ],
   "source": [
    "from sklearn.metrics import plot_confusion_matrix\n",
    "from sklearn.metrics import confusion_matrix\n",
    "plot_confusion_matrix(clf, X_test, y_test)  ;\n",
    "y_pred=clf.predict(X_test)\n",
    "\n",
    "TN, FP, FN, TP = confusion_matrix(y_test,y_pred).ravel()\n",
    "Accuracy = (TP + TN) / (TP + TN + FP + FN)\n",
    "print(\"Accuracy is \"+ str(Accuracy))\n",
    "Precision = TP / (TP + FP)\n",
    "print(\"Precision is \"+str(Precision))\n",
    "Recall= TP /( TP + FN)\n",
    "print(\"Recall is \"+str(Recall))\n",
    "F1=2*(Precision*Recall)/(Precision+Recall)\n",
    "print(\"F1 score is \"+str(F1))\n"
   ]
  },
  {
   "cell_type": "markdown",
   "metadata": {},
   "source": [
    "#### Roc  Curve\n",
    "- AUC is again under 50 % which is definitely overfitting.\n",
    "- The model cannot distiguish between the two classes."
   ]
  },
  {
   "cell_type": "code",
   "execution_count": 23,
   "metadata": {},
   "outputs": [
    {
     "data": {
      "image/png": "[encoded data removed]",
      "text/plain": [
       "<Figure size 432x288 with 1 Axes>"
      ]
     },
     "metadata": {
      "needs_background": "light"
     },
     "output_type": "display_data"
    }
   ],
   "source": [
    "model_probs = clf.predict_proba(X_test)\n",
    "y_score = model_probs[:, 1]\n",
    "fpr, tpr, _ = roc_curve([0 if i == 'G' else 1 for i in y_test], y_score)\n",
    "auc = roc_auc_score(y_test, y_score)\n",
    "\n",
    "plt.plot(fpr, tpr, marker='.', label= 'ROC curve (area = %0.2f)' % auc)\n",
    "plt.xlabel('False Positive Rate');\n",
    "plt.ylabel('True Positive Rate');\n",
    "plt.legend(loc='lower right');\n"
   ]
  },
  {
   "cell_type": "markdown",
   "metadata": {
    "id": "CQtUu0F_y-Ay"
   },
   "source": [
    "# Multi-Classification\n",
    "- We have selected all images which are 377 images.\n",
    "- We splitted data randomly by sklearn into train, test and validation splits.\n",
    "- The train split contains 226 images which is 60 % of images. \n",
    "- The test split contains 76 images which is 20 % of images. \n",
    "- The validation split contains 75 images which is 20 % of images."
   ]
  },
  {
   "cell_type": "code",
   "execution_count": 53,
   "metadata": {
    "id": "VEi-GqVDvsT1"
   },
   "outputs": [
    {
     "name": "stdout",
     "output_type": "stream",
     "text": [
      "images length is 377\n",
      "train length is 226 || test length is 76 || validation length is 75\n"
     ]
    }
   ],
   "source": [
    "from sklearn.multiclass import OneVsRestClassifier\n",
    "from sklearn.model_selection import train_test_split\n",
    "\n",
    "X_train, X_rem, y_train, y_rem = train_test_split(X,y, train_size=0.6)\n",
    "\n",
    "X_valid, X_test, y_valid, y_test = train_test_split(X_rem,y_rem, test_size=0.5)\n",
    "print(\"images length is \"+ str(len(X)))\n",
    "print(\"train length is \"+str(len(y_train))+\" || test length is \"+str(len(y_test))+\" || validation length is \"+str(len(y_valid)))\n",
    "\n",
    "clf = OneVsRestClassifier((LogisticRegression(multi_class='multinomial', solver='lbfgs'))).fit(X_train, y_train)\n"
   ]
  },
  {
   "cell_type": "markdown",
   "metadata": {},
   "source": [
    "### Train Data Metrics\n",
    "- class 8 and q has the most high recall value, then we are going to use it in one vs rest in roc curve."
   ]
  },
  {
   "cell_type": "code",
   "execution_count": 54,
   "metadata": {},
   "outputs": [
    {
     "name": "stdout",
     "output_type": "stream",
     "text": [
      "Accuracy  for class 8 is 0.9902912621359223\n",
      "Precision for class 8 is 0.9090909090909091\n",
      "Recall    for class 8 is 1.0\n",
      "F1 score  for class 8 is 0.9523809523809523\n",
      "\n",
      "Accuracy  for class G is 0.927536231884058\n",
      "Precision for class G is 0.946236559139785\n",
      "Recall    for class G is 0.946236559139785\n",
      "F1 score  for class G is 0.946236559139785\n",
      "\n",
      "Accuracy  for class o is 0.9337748344370861\n",
      "Precision for class o is 0.9493670886075949\n",
      "Recall    for class o is 0.9333333333333333\n",
      "F1 score  for class o is 0.9375000000000001\n",
      "\n",
      "Accuracy  for class q is 1.0\n",
      "Precision for class q is 0.8235294117647058\n",
      "Recall    for class q is 1.0\n",
      "F1 score  for class q is 1.0\n",
      "\n",
      "\n",
      "Overall Accuracy  is 0.9680696661828737\n",
      "\n",
      "AVG     Recall    is 0.9680406212664278\n",
      "\n",
      "AVG     Precision is 0.9511736392095722\n",
      "\n",
      "Micro   F1 Score  is 0.9513274336283186\n",
      "Macro   F1 Score  is 0.9590293778801844\n"
     ]
    },
    {
     "data": {
      "image/png": "[encoded data removed]",
      "text/plain": [
       "<Figure size 432x288 with 2 Axes>"
      ]
     },
     "metadata": {
      "needs_background": "light"
     },
     "output_type": "display_data"
    }
   ],
   "source": [
    "plot_confusion_matrix(clf, X_train, y_train)  ;\n",
    "y_pred=clf.predict(X_train)\n",
    "TP_8,TP_G,TP_o,TP_q=confusion_matrix(y_train,y_pred).diagonal()\n",
    "FN_8,FN_G,FN_o,FN_q=confusion_matrix(y_train,y_pred).sum(axis=0)-confusion_matrix(y_train,y_pred).diagonal()\n",
    "FP_8,FP_G,FP_o,FP_q=confusion_matrix(y_train,y_pred).sum(axis=1)-confusion_matrix(y_train,y_pred).diagonal()\n",
    "TN_8,TN_G,TN_o,TN_q=confusion_matrix(y_train,y_pred).sum()-(confusion_matrix(y_train,y_pred).sum(axis=0)+confusion_matrix(y_train,y_pred).sum(axis=1))\n",
    "\n",
    "Accuracy_8 = (TP_8 + TN_8) / (TP_8 + TN_8 + FP_8 + FN_8)\n",
    "print(\"Accuracy  for class 8 is \"+ str(Accuracy_8))\n",
    "Precision_8 = TP_8 / (TP_8 + FP_8)\n",
    "print(\"Precision for class 8 is \"+str(Precision_8))\n",
    "Recall_8= TP_8 /( TP_8 + FN_8)\n",
    "print(\"Recall    for class 8 is \"+str(Recall_8))\n",
    "F1_8=2*(Precision_8*Recall_8)/(Precision_8+Recall_8)\n",
    "print(\"F1 score  for class 8 is \"+str(F1_8)+\"\\n\")\n",
    "#---------------------------------------------\n",
    "Accuracy_G = (TP_G + TN_G) / (TP_G + TN_G + FP_G + FN_G)\n",
    "print(\"Accuracy  for class G is \"+ str(Accuracy_G))\n",
    "Precision_G = TP_G / (TP_G + FP_G)\n",
    "print(\"Precision for class G is \"+str(Precision_G))\n",
    "Recall_G= TP_G /( TP_G + FN_G)\n",
    "print(\"Recall    for class G is \"+str(Recall_G))\n",
    "F1_G=2*(Precision_G*Recall_G)/(Precision_G+Recall_G)\n",
    "print(\"F1 score  for class G is \"+str(F1_G)+\"\\n\")\n",
    "#------------------------------------------------\n",
    "Accuracy_o = (TP_o + TN_o) / (TP_o + TN_o + FP_o + FN_o)\n",
    "print(\"Accuracy  for class o is \"+ str(Accuracy_o))\n",
    "Precision_o = TP_o / (TP_o + FP_o)\n",
    "print(\"Precision for class o is \"+str(Precision_o))\n",
    "Recall_o= TP_o /( TP_o + FN_o)\n",
    "print(\"Recall    for class o is \"+str(Recall))\n",
    "F1_o=2*(Precision_o*Recall_o)/(Precision_o+Recall_o)\n",
    "print(\"F1 score  for class o is \"+str(F1_o)+\"\\n\")\n",
    "#------------------------------------------\n",
    "Accuracy_q = (TP_q + TN_q) / (TP_q + TN_q + FP_q + FN_q)\n",
    "print(\"Accuracy  for class q is \"+ str(Accuracy_q))\n",
    "Precision_q = TP_q / (TP_q + FP_q)\n",
    "print(\"Precision for class q is \"+str(Precision))\n",
    "Recall_q= TP_q /( TP_q + FN_q)\n",
    "print(\"Recall    for class q is \"+str(Recall_q))\n",
    "F1_q=2*(Precision_q*Recall_q)/(Precision_q+Recall_q)\n",
    "print(\"F1 score  for class q is \"+str(F1_q)+\"\\n\"+\"\\n\")\n",
    "# ----------------\n",
    "print(\"Overall Accuracy  is \"+str((TP_8+TP_G+TP_o+TP_q+TN_8+TN_G+TN_o+TN_q)/\n",
    "                          (TP_8+TP_G+TP_o+TP_q+TN_8+TN_G+TN_o+TN_q+FN_8+FN_G+FN_o+FN_q+FP_8+FP_G+FP_o+FP_q))+\"\\n\" )\n",
    "print(\"AVG     Recall    is \"+str((Recall_8+Recall_G+Recall_o+Recall_q)/4)+\"\\n\")\n",
    "print(\"AVG     Precision is \"+str((Precision_8+Precision_G+Precision_o+Precision_q)/4)+\"\\n\")\n",
    "micro_precision=(TP_8+TP_G+TP_o+TP_q)/(TP_8+TP_G+TP_o+TP_q+FN_8+FN_G+FN_o+FN_q)\n",
    "\n",
    "micro_recall=(TP_8+TP_G+TP_o+TP_q)/(TP_8+TP_G+TP_o+TP_q+FP_8+FP_G+FP_o+FP_q)\n",
    "\n",
    "print(\"Micro   F1 Score  is \"+str(2*(micro_precision*micro_recall)/(micro_precision+micro_recall)))\n",
    "print(\"Macro   F1 Score  is \"+str((F1_8+F1_G+F1_o+F1_q)/4))"
   ]
  },
  {
   "cell_type": "markdown",
   "metadata": {},
   "source": [
    "#### Roc Curve\n",
    "- AUC is 85%\n",
    "- An AUC of 85% means that if we take two data points from the q and 8 classes and from the rest classes G and o, there is a 85% chance that the model will correctly rank order them, hence the positive class has a greater prediction probability than the negative class.\n"
   ]
  },
  {
   "cell_type": "code",
   "execution_count": 55,
   "metadata": {},
   "outputs": [
    {
     "data": {
      "image/png": "[encoded data removed]",
      "text/plain": [
       "<Figure size 432x288 with 1 Axes>"
      ]
     },
     "metadata": {
      "needs_background": "light"
     },
     "output_type": "display_data"
    }
   ],
   "source": [
    "model_probs = clf.predict_proba(X_train)\n",
    "y_score = model_probs[:, 1]\n",
    "fpr, tpr, _ = roc_curve([0 if( i == 'q')|(i=='8') else 1 for i in y_train], y_score)\n",
    "auc = roc_auc_score([0 if( i == 'q')|(i=='8') else 1 for i in y_train], y_score)\n",
    "\n",
    "plt.plot(fpr, tpr, marker='.', label= 'ROC curve (area = %0.2f)' % auc)\n",
    "plt.xlabel('False Positive Rate');\n",
    "plt.ylabel('True Positive Rate');\n",
    "plt.legend(loc='lower right');\n"
   ]
  },
  {
   "cell_type": "markdown",
   "metadata": {},
   "source": [
    "### Test Data Metrics"
   ]
  },
  {
   "cell_type": "code",
   "execution_count": 56,
   "metadata": {},
   "outputs": [
    {
     "name": "stdout",
     "output_type": "stream",
     "text": [
      "Accuracy  for class 8 is 0.868421052631579\n",
      "Precision for class 8 is 0.0\n",
      "Recall    for class 8 is 0.0\n",
      "F1 score  for class 8 is nan\n",
      "\n",
      "Accuracy  for class G is 0.5344827586206896\n",
      "Precision for class G is 0.6666666666666666\n",
      "Recall    for class G is 0.5\n",
      "F1 score  for class G is 0.5714285714285715\n",
      "\n",
      "Accuracy  for class o is 0.5263157894736842\n",
      "Precision for class o is 0.5757575757575758\n",
      "Recall    for class o is 0.9333333333333333\n",
      "F1 score  for class o is 0.5846153846153846\n",
      "\n",
      "Accuracy  for class q is 0.8648648648648649\n",
      "Precision for class q is 0.8235294117647058\n",
      "Recall    for class q is 0.6666666666666666\n",
      "F1 score  for class q is 0.28571428571428575\n",
      "\n",
      "\n",
      "Overall Accuracy  is 0.720754716981132\n",
      "\n",
      "AVG     Recall    is 0.44010416666666663\n",
      "\n",
      "AVG     Precision is 0.3560606060606061\n",
      "\n",
      "Micro   F1 Score  is 0.5131578947368421\n",
      "Macro   F1 Score  is nan\n"
     ]
    },
    {
     "data": {
      "image/png": "[encoded data removed]",
      "text/plain": [
       "<Figure size 432x288 with 2 Axes>"
      ]
     },
     "metadata": {
      "needs_background": "light"
     },
     "output_type": "display_data"
    }
   ],
   "source": [
    "plot_confusion_matrix(clf, X_test, y_test)  ;\n",
    "y_pred=clf.predict(X_test)\n",
    "TP_8,TP_G,TP_o,TP_q=confusion_matrix(y_test,y_pred).diagonal()\n",
    "FN_8,FN_G,FN_o,FN_q=confusion_matrix(y_test,y_pred).sum(axis=0)-confusion_matrix(y_test,y_pred).diagonal()\n",
    "FP_8,FP_G,FP_o,FP_q=confusion_matrix(y_test,y_pred).sum(axis=1)-confusion_matrix(y_test,y_pred).diagonal()\n",
    "TN_8,TN_G,TN_o,TN_q=confusion_matrix(y_test,y_pred).sum()-(confusion_matrix(y_test,y_pred).sum(axis=0)+confusion_matrix(y_test,y_pred).sum(axis=1))\n",
    "\n",
    "Accuracy_8 = (TP_8 + TN_8) / (TP_8 + TN_8 + FP_8 + FN_8)\n",
    "print(\"Accuracy  for class 8 is \"+ str(Accuracy_8))\n",
    "Precision_8 = TP_8 / (TP_8 + FP_8)\n",
    "print(\"Precision for class 8 is \"+str(Precision_8))\n",
    "Recall_8= TP_8 /( TP_8 + FN_8)\n",
    "print(\"Recall    for class 8 is \"+str(Recall_8))\n",
    "F1_8=2*(Precision_8*Recall_8)/(Precision_8+Recall_8)\n",
    "print(\"F1 score  for class 8 is \"+str(F1_8)+\"\\n\")\n",
    "#---------------------------------------------\n",
    "Accuracy_G = (TP_G + TN_G) / (TP_G + TN_G + FP_G + FN_G)\n",
    "print(\"Accuracy  for class G is \"+ str(Accuracy_G))\n",
    "Precision_G = TP_G / (TP_G + FP_G)\n",
    "print(\"Precision for class G is \"+str(Precision_G))\n",
    "Recall_G= TP_G /( TP_G + FN_G)\n",
    "print(\"Recall    for class G is \"+str(Recall_G))\n",
    "F1_G=2*(Precision_G*Recall_G)/(Precision_G+Recall_G)\n",
    "print(\"F1 score  for class G is \"+str(F1_G)+\"\\n\")\n",
    "#------------------------------------------------\n",
    "Accuracy_o = (TP_o + TN_o) / (TP_o + TN_o + FP_o + FN_o)\n",
    "print(\"Accuracy  for class o is \"+ str(Accuracy_o))\n",
    "Precision_o = TP_o / (TP_o + FP_o)\n",
    "print(\"Precision for class o is \"+str(Precision_o))\n",
    "Recall_o= TP_o /( TP_o + FN_o)\n",
    "print(\"Recall    for class o is \"+str(Recall))\n",
    "F1_o=2*(Precision_o*Recall_o)/(Precision_o+Recall_o)\n",
    "print(\"F1 score  for class o is \"+str(F1_o)+\"\\n\")\n",
    "#------------------------------------------\n",
    "Accuracy_q = (TP_q + TN_q) / (TP_q + TN_q + FP_q + FN_q)\n",
    "print(\"Accuracy  for class q is \"+ str(Accuracy_q))\n",
    "Precision_q = TP_q / (TP_q + FP_q)\n",
    "print(\"Precision for class q is \"+str(Precision))\n",
    "Recall_q= TP_q /( TP_q + FN_q)\n",
    "print(\"Recall    for class q is \"+str(Recall_q))\n",
    "F1_q=2*(Precision_q*Recall_q)/(Precision_q+Recall_q)\n",
    "print(\"F1 score  for class q is \"+str(F1_q)+\"\\n\"+\"\\n\")\n",
    "# ----------------\n",
    "print(\"Overall Accuracy  is \"+str((TP_8+TP_G+TP_o+TP_q+TN_8+TN_G+TN_o+TN_q)/\n",
    "                          (TP_8+TP_G+TP_o+TP_q+TN_8+TN_G+TN_o+TN_q+FN_8+FN_G+FN_o+FN_q+FP_8+FP_G+FP_o+FP_q))+\"\\n\" )\n",
    "print(\"AVG     Recall    is \"+str((Recall_8+Recall_G+Recall_o+Recall_q)/4)+\"\\n\")\n",
    "print(\"AVG     Precision is \"+str((Precision_8+Precision_G+Precision_o+Precision_q)/4)+\"\\n\")\n",
    "micro_precision=(TP_8+TP_G+TP_o+TP_q)/(TP_8+TP_G+TP_o+TP_q+FN_8+FN_G+FN_o+FN_q)\n",
    "\n",
    "micro_recall=(TP_8+TP_G+TP_o+TP_q)/(TP_8+TP_G+TP_o+TP_q+FP_8+FP_G+FP_o+FP_q)\n",
    "\n",
    "print(\"Micro   F1 Score  is \"+str(2*(micro_precision*micro_recall)/(micro_precision+micro_recall)))\n",
    "print(\"Macro   F1 Score  is \"+str((F1_8+F1_G+F1_o+F1_q)/4))"
   ]
  },
  {
   "cell_type": "markdown",
   "metadata": {},
   "source": [
    "#### Roc Curve\n",
    "- AUC is 57%\n",
    "- The model is almost distinguish between the 2 data points represented by q&8 and G&o saying that the chance for each data point is 57% which is known without modeling.\n",
    "- The model keeps overfitting in data was not seen before.\n",
    "- We may suggest to increase the number of images used to avoid overfitting.\n"
   ]
  },
  {
   "cell_type": "code",
   "execution_count": 57,
   "metadata": {},
   "outputs": [
    {
     "data": {
      "image/png": "[encoded data removed]",
      "text/plain": [
       "<Figure size 432x288 with 1 Axes>"
      ]
     },
     "metadata": {
      "needs_background": "light"
     },
     "output_type": "display_data"
    }
   ],
   "source": [
    "model_probs = clf.predict_proba(X_test)\n",
    "y_score = model_probs[:, 1]\n",
    "fpr, tpr, _ = roc_curve([0 if( i == 'q')|(i=='8') else 1 for i in y_test], y_score)\n",
    "auc = roc_auc_score([0 if( i == 'q')|(i=='8') else 1 for i in y_test], y_score)\n",
    "\n",
    "plt.plot(fpr, tpr, marker='.', label= 'ROC curve (area = %0.2f)' % auc)\n",
    "plt.xlabel('False Positive Rate');\n",
    "plt.ylabel('True Positive Rate');\n",
    "plt.legend(loc='lower right');\n"
   ]
  },
  {
   "cell_type": "code",
   "execution_count": null,
   "metadata": {},
   "outputs": [],
   "source": []
  }
 ],
 "metadata": {
  "colab": {
   "name": "cv_resize img.ipynb",
   "provenance": []
  },
  "kernelspec": {
   "display_name": "Python 3",
   "language": "python",
   "name": "python3"
  },
  "language_info": {
   "codemirror_mode": {
    "name": "ipython",
    "version": 3
   },
   "file_extension": ".py",
   "mimetype": "text/x-python",
   "name": "python",
   "nbconvert_exporter": "python",
   "pygments_lexer": "ipython3",
   "version": "3.8.10"
  }
 },
 "nbformat": 4,
 "nbformat_minor": 1
}
